{
  "nbformat": 4,
  "nbformat_minor": 0,
  "metadata": {
    "colab": {
      "name": "COVID-19_Estados.ipynb",
      "provenance": [],
      "collapsed_sections": [
        "7QQNtfCFdlAu",
        "5hGhcTTW1fnt"
      ],
      "authorship_tag": "ABX9TyPDEk+soTBOCXMVAM6cwe5v",
      "include_colab_link": true
    },
    "kernelspec": {
      "name": "python3",
      "display_name": "Python 3"
    }
  },
  "cells": [
    {
      "cell_type": "markdown",
      "metadata": {
        "id": "view-in-github",
        "colab_type": "text"
      },
      "source": [
        "<a href=\"https://colab.research.google.com/github/italolima04/data-science/blob/master/COVID-ESTADOS-BRASIL/COVID_19_Estados.ipynb\" target=\"_parent\"><img src=\"https://colab.research.google.com/assets/colab-badge.svg\" alt=\"Open In Colab\"/></a>"
      ]
    },
    {
      "cell_type": "markdown",
      "metadata": {
        "id": "7QQNtfCFdlAu",
        "colab_type": "text"
      },
      "source": [
        "# Importando Bibliotecas e Visualizando os Dados"
      ]
    },
    {
      "cell_type": "code",
      "metadata": {
        "id": "tMKw5qnxQTEY",
        "colab_type": "code",
        "colab": {}
      },
      "source": [
        "import pandas as pd\n",
        "import numpy as np\n",
        "import seaborn as sns\n",
        "import matplotlib.pyplot as plt"
      ],
      "execution_count": 0,
      "outputs": []
    },
    {
      "cell_type": "code",
      "metadata": {
        "id": "wmN2guY6Qh6k",
        "colab_type": "code",
        "colab": {}
      },
      "source": [
        "df = pd.read_csv('https://brasil.io/dataset/covid19/caso?format=csv')"
      ],
      "execution_count": 0,
      "outputs": []
    },
    {
      "cell_type": "code",
      "metadata": {
        "id": "sh-c5C3eQo4t",
        "colab_type": "code",
        "outputId": "cf4dd408-0a20-4f89-c367-9d9052a64950",
        "colab": {
          "base_uri": "https://localhost:8080/",
          "height": 558
        }
      },
      "source": [
        "df.head(10)"
      ],
      "execution_count": 0,
      "outputs": [
        {
          "output_type": "execute_result",
          "data": {
            "text/html": [
              "<div>\n",
              "<style scoped>\n",
              "    .dataframe tbody tr th:only-of-type {\n",
              "        vertical-align: middle;\n",
              "    }\n",
              "\n",
              "    .dataframe tbody tr th {\n",
              "        vertical-align: top;\n",
              "    }\n",
              "\n",
              "    .dataframe thead th {\n",
              "        text-align: right;\n",
              "    }\n",
              "</style>\n",
              "<table border=\"1\" class=\"dataframe\">\n",
              "  <thead>\n",
              "    <tr style=\"text-align: right;\">\n",
              "      <th></th>\n",
              "      <th>date</th>\n",
              "      <th>state</th>\n",
              "      <th>city</th>\n",
              "      <th>place_type</th>\n",
              "      <th>confirmed</th>\n",
              "      <th>deaths</th>\n",
              "      <th>is_last</th>\n",
              "      <th>estimated_population_2019</th>\n",
              "      <th>city_ibge_code</th>\n",
              "      <th>confirmed_per_100k_inhabitants</th>\n",
              "      <th>death_rate</th>\n",
              "    </tr>\n",
              "  </thead>\n",
              "  <tbody>\n",
              "    <tr>\n",
              "      <th>0</th>\n",
              "      <td>2020-05-10</td>\n",
              "      <td>AL</td>\n",
              "      <td>Anadia</td>\n",
              "      <td>city</td>\n",
              "      <td>2</td>\n",
              "      <td>1</td>\n",
              "      <td>True</td>\n",
              "      <td>17545.0</td>\n",
              "      <td>2700201.0</td>\n",
              "      <td>11.39926</td>\n",
              "      <td>0.5000</td>\n",
              "    </tr>\n",
              "    <tr>\n",
              "      <th>1</th>\n",
              "      <td>2020-05-10</td>\n",
              "      <td>AL</td>\n",
              "      <td>Arapiraca</td>\n",
              "      <td>city</td>\n",
              "      <td>39</td>\n",
              "      <td>5</td>\n",
              "      <td>True</td>\n",
              "      <td>231747.0</td>\n",
              "      <td>2700300.0</td>\n",
              "      <td>16.82870</td>\n",
              "      <td>0.1282</td>\n",
              "    </tr>\n",
              "    <tr>\n",
              "      <th>2</th>\n",
              "      <td>2020-05-10</td>\n",
              "      <td>AL</td>\n",
              "      <td>Atalaia</td>\n",
              "      <td>city</td>\n",
              "      <td>10</td>\n",
              "      <td>0</td>\n",
              "      <td>True</td>\n",
              "      <td>47185.0</td>\n",
              "      <td>2700409.0</td>\n",
              "      <td>21.19318</td>\n",
              "      <td>0.0000</td>\n",
              "    </tr>\n",
              "    <tr>\n",
              "      <th>3</th>\n",
              "      <td>2020-05-10</td>\n",
              "      <td>AL</td>\n",
              "      <td>Barra de Santo Antônio</td>\n",
              "      <td>city</td>\n",
              "      <td>1</td>\n",
              "      <td>0</td>\n",
              "      <td>True</td>\n",
              "      <td>15932.0</td>\n",
              "      <td>2700508.0</td>\n",
              "      <td>6.27668</td>\n",
              "      <td>0.0000</td>\n",
              "    </tr>\n",
              "    <tr>\n",
              "      <th>4</th>\n",
              "      <td>2020-05-10</td>\n",
              "      <td>AL</td>\n",
              "      <td>Barra de São Miguel</td>\n",
              "      <td>city</td>\n",
              "      <td>5</td>\n",
              "      <td>0</td>\n",
              "      <td>True</td>\n",
              "      <td>8322.0</td>\n",
              "      <td>2700607.0</td>\n",
              "      <td>60.08171</td>\n",
              "      <td>0.0000</td>\n",
              "    </tr>\n",
              "    <tr>\n",
              "      <th>5</th>\n",
              "      <td>2020-05-10</td>\n",
              "      <td>AL</td>\n",
              "      <td>Batalha</td>\n",
              "      <td>city</td>\n",
              "      <td>3</td>\n",
              "      <td>1</td>\n",
              "      <td>True</td>\n",
              "      <td>18232.0</td>\n",
              "      <td>2700706.0</td>\n",
              "      <td>16.45459</td>\n",
              "      <td>0.3333</td>\n",
              "    </tr>\n",
              "    <tr>\n",
              "      <th>6</th>\n",
              "      <td>2020-05-10</td>\n",
              "      <td>AL</td>\n",
              "      <td>Boca da Mata</td>\n",
              "      <td>city</td>\n",
              "      <td>6</td>\n",
              "      <td>0</td>\n",
              "      <td>True</td>\n",
              "      <td>27281.0</td>\n",
              "      <td>2701001.0</td>\n",
              "      <td>21.99333</td>\n",
              "      <td>0.0000</td>\n",
              "    </tr>\n",
              "    <tr>\n",
              "      <th>7</th>\n",
              "      <td>2020-05-10</td>\n",
              "      <td>AL</td>\n",
              "      <td>Branquinha</td>\n",
              "      <td>city</td>\n",
              "      <td>1</td>\n",
              "      <td>0</td>\n",
              "      <td>True</td>\n",
              "      <td>10494.0</td>\n",
              "      <td>2701100.0</td>\n",
              "      <td>9.52925</td>\n",
              "      <td>0.0000</td>\n",
              "    </tr>\n",
              "    <tr>\n",
              "      <th>8</th>\n",
              "      <td>2020-05-10</td>\n",
              "      <td>AL</td>\n",
              "      <td>Cacimbinhas</td>\n",
              "      <td>city</td>\n",
              "      <td>1</td>\n",
              "      <td>1</td>\n",
              "      <td>True</td>\n",
              "      <td>10858.0</td>\n",
              "      <td>2701209.0</td>\n",
              "      <td>9.20980</td>\n",
              "      <td>1.0000</td>\n",
              "    </tr>\n",
              "    <tr>\n",
              "      <th>9</th>\n",
              "      <td>2020-05-10</td>\n",
              "      <td>AL</td>\n",
              "      <td>Cajueiro</td>\n",
              "      <td>city</td>\n",
              "      <td>1</td>\n",
              "      <td>0</td>\n",
              "      <td>True</td>\n",
              "      <td>21264.0</td>\n",
              "      <td>2701308.0</td>\n",
              "      <td>4.70278</td>\n",
              "      <td>0.0000</td>\n",
              "    </tr>\n",
              "  </tbody>\n",
              "</table>\n",
              "</div>"
            ],
            "text/plain": [
              "         date state  ... confirmed_per_100k_inhabitants death_rate\n",
              "0  2020-05-10    AL  ...                       11.39926     0.5000\n",
              "1  2020-05-10    AL  ...                       16.82870     0.1282\n",
              "2  2020-05-10    AL  ...                       21.19318     0.0000\n",
              "3  2020-05-10    AL  ...                        6.27668     0.0000\n",
              "4  2020-05-10    AL  ...                       60.08171     0.0000\n",
              "5  2020-05-10    AL  ...                       16.45459     0.3333\n",
              "6  2020-05-10    AL  ...                       21.99333     0.0000\n",
              "7  2020-05-10    AL  ...                        9.52925     0.0000\n",
              "8  2020-05-10    AL  ...                        9.20980     1.0000\n",
              "9  2020-05-10    AL  ...                        4.70278     0.0000\n",
              "\n",
              "[10 rows x 11 columns]"
            ]
          },
          "metadata": {
            "tags": []
          },
          "execution_count": 41
        }
      ]
    },
    {
      "cell_type": "markdown",
      "metadata": {
        "id": "208mVxb0dvNI",
        "colab_type": "text"
      },
      "source": [
        "# Manipulando os Dados"
      ]
    },
    {
      "cell_type": "markdown",
      "metadata": {
        "id": "Wl1CXBEIstIY",
        "colab_type": "text"
      },
      "source": [
        "Como vamos trabalhar com os estados, devemos selecionar do Data Frame original somente as linhas em que a coluna 'place_type' for igual a state"
      ]
    },
    {
      "cell_type": "markdown",
      "metadata": {
        "id": "eAgkAAwDs5Fc",
        "colab_type": "text"
      },
      "source": [
        "Além disso, iremos selecionar somente as colunas de interesse para esse estudo"
      ]
    },
    {
      "cell_type": "markdown",
      "metadata": {
        "id": "wNAc7IfMs_KC",
        "colab_type": "text"
      },
      "source": [
        "**É possível então realizar esses dois processos utilizando um único método, este é o loc do Pandas.**"
      ]
    },
    {
      "cell_type": "code",
      "metadata": {
        "id": "QeHcRvruQttj",
        "colab_type": "code",
        "outputId": "3de6a45b-a665-4af1-dd0a-f9ab2e464e1a",
        "colab": {
          "base_uri": "https://localhost:8080/",
          "height": 407
        }
      },
      "source": [
        "dados = df.loc[df.place_type == 'state', ['state', 'confirmed', 'deaths', 'is_last', 'estimated_population_2019', 'confirmed_per_100k_inhabitants']]\n",
        "dados"
      ],
      "execution_count": 0,
      "outputs": [
        {
          "output_type": "execute_result",
          "data": {
            "text/html": [
              "<div>\n",
              "<style scoped>\n",
              "    .dataframe tbody tr th:only-of-type {\n",
              "        vertical-align: middle;\n",
              "    }\n",
              "\n",
              "    .dataframe tbody tr th {\n",
              "        vertical-align: top;\n",
              "    }\n",
              "\n",
              "    .dataframe thead th {\n",
              "        text-align: right;\n",
              "    }\n",
              "</style>\n",
              "<table border=\"1\" class=\"dataframe\">\n",
              "  <thead>\n",
              "    <tr style=\"text-align: right;\">\n",
              "      <th></th>\n",
              "      <th>state</th>\n",
              "      <th>confirmed</th>\n",
              "      <th>deaths</th>\n",
              "      <th>is_last</th>\n",
              "      <th>estimated_population_2019</th>\n",
              "      <th>confirmed_per_100k_inhabitants</th>\n",
              "    </tr>\n",
              "  </thead>\n",
              "  <tbody>\n",
              "    <tr>\n",
              "      <th>69</th>\n",
              "      <td>AL</td>\n",
              "      <td>2258</td>\n",
              "      <td>126</td>\n",
              "      <td>True</td>\n",
              "      <td>3337357.0</td>\n",
              "      <td>67.65833</td>\n",
              "    </tr>\n",
              "    <tr>\n",
              "      <th>126</th>\n",
              "      <td>AM</td>\n",
              "      <td>12599</td>\n",
              "      <td>1004</td>\n",
              "      <td>True</td>\n",
              "      <td>4144597.0</td>\n",
              "      <td>303.98613</td>\n",
              "    </tr>\n",
              "    <tr>\n",
              "      <th>144</th>\n",
              "      <td>AP</td>\n",
              "      <td>2613</td>\n",
              "      <td>72</td>\n",
              "      <td>True</td>\n",
              "      <td>845731.0</td>\n",
              "      <td>308.96349</td>\n",
              "    </tr>\n",
              "    <tr>\n",
              "      <th>318</th>\n",
              "      <td>CE</td>\n",
              "      <td>16692</td>\n",
              "      <td>1114</td>\n",
              "      <td>True</td>\n",
              "      <td>9132078.0</td>\n",
              "      <td>182.78425</td>\n",
              "    </tr>\n",
              "    <tr>\n",
              "      <th>321</th>\n",
              "      <td>DF</td>\n",
              "      <td>2682</td>\n",
              "      <td>42</td>\n",
              "      <td>True</td>\n",
              "      <td>3015268.0</td>\n",
              "      <td>88.94732</td>\n",
              "    </tr>\n",
              "    <tr>\n",
              "      <th>...</th>\n",
              "      <td>...</td>\n",
              "      <td>...</td>\n",
              "      <td>...</td>\n",
              "      <td>...</td>\n",
              "      <td>...</td>\n",
              "      <td>...</td>\n",
              "    </tr>\n",
              "    <tr>\n",
              "      <th>67009</th>\n",
              "      <td>SP</td>\n",
              "      <td>2</td>\n",
              "      <td>0</td>\n",
              "      <td>False</td>\n",
              "      <td>45919049.0</td>\n",
              "      <td>0.00436</td>\n",
              "    </tr>\n",
              "    <tr>\n",
              "      <th>67011</th>\n",
              "      <td>SP</td>\n",
              "      <td>2</td>\n",
              "      <td>0</td>\n",
              "      <td>False</td>\n",
              "      <td>45919049.0</td>\n",
              "      <td>0.00436</td>\n",
              "    </tr>\n",
              "    <tr>\n",
              "      <th>67013</th>\n",
              "      <td>SP</td>\n",
              "      <td>1</td>\n",
              "      <td>0</td>\n",
              "      <td>False</td>\n",
              "      <td>45919049.0</td>\n",
              "      <td>0.00218</td>\n",
              "    </tr>\n",
              "    <tr>\n",
              "      <th>67015</th>\n",
              "      <td>SP</td>\n",
              "      <td>1</td>\n",
              "      <td>0</td>\n",
              "      <td>False</td>\n",
              "      <td>45919049.0</td>\n",
              "      <td>0.00218</td>\n",
              "    </tr>\n",
              "    <tr>\n",
              "      <th>67017</th>\n",
              "      <td>SP</td>\n",
              "      <td>1</td>\n",
              "      <td>0</td>\n",
              "      <td>False</td>\n",
              "      <td>45919049.0</td>\n",
              "      <td>0.00218</td>\n",
              "    </tr>\n",
              "  </tbody>\n",
              "</table>\n",
              "<p>1535 rows × 6 columns</p>\n",
              "</div>"
            ],
            "text/plain": [
              "      state  ...  confirmed_per_100k_inhabitants\n",
              "69       AL  ...                        67.65833\n",
              "126      AM  ...                       303.98613\n",
              "144      AP  ...                       308.96349\n",
              "318      CE  ...                       182.78425\n",
              "321      DF  ...                        88.94732\n",
              "...     ...  ...                             ...\n",
              "67009    SP  ...                         0.00436\n",
              "67011    SP  ...                         0.00436\n",
              "67013    SP  ...                         0.00218\n",
              "67015    SP  ...                         0.00218\n",
              "67017    SP  ...                         0.00218\n",
              "\n",
              "[1535 rows x 6 columns]"
            ]
          },
          "metadata": {
            "tags": []
          },
          "execution_count": 42
        }
      ]
    },
    {
      "cell_type": "markdown",
      "metadata": {
        "id": "MOm-z_Z7tJ0T",
        "colab_type": "text"
      },
      "source": [
        "Nesses novos dados, desejamos trabalhar apenas com os últimos registros organizados a partir da coleta de dados dos boletins epidemiológicos"
      ]
    },
    {
      "cell_type": "markdown",
      "metadata": {
        "id": "lvbDwH9XtT6N",
        "colab_type": "text"
      },
      "source": [
        "**Para isso, iremos filtrar do Data Frame todas as linhas nas quais a coluna 'is_last' for igual a True, também através do método loc**"
      ]
    },
    {
      "cell_type": "code",
      "metadata": {
        "id": "HVgIL2F_Qtso",
        "colab_type": "code",
        "outputId": "7fda1063-8e12-423a-96b8-65bf4f2c31f4",
        "colab": {
          "base_uri": "https://localhost:8080/",
          "height": 858
        }
      },
      "source": [
        "dados = dados.loc[dados.is_last == True, :]\n",
        "dados"
      ],
      "execution_count": 0,
      "outputs": [
        {
          "output_type": "execute_result",
          "data": {
            "text/html": [
              "<div>\n",
              "<style scoped>\n",
              "    .dataframe tbody tr th:only-of-type {\n",
              "        vertical-align: middle;\n",
              "    }\n",
              "\n",
              "    .dataframe tbody tr th {\n",
              "        vertical-align: top;\n",
              "    }\n",
              "\n",
              "    .dataframe thead th {\n",
              "        text-align: right;\n",
              "    }\n",
              "</style>\n",
              "<table border=\"1\" class=\"dataframe\">\n",
              "  <thead>\n",
              "    <tr style=\"text-align: right;\">\n",
              "      <th></th>\n",
              "      <th>state</th>\n",
              "      <th>confirmed</th>\n",
              "      <th>deaths</th>\n",
              "      <th>is_last</th>\n",
              "      <th>estimated_population_2019</th>\n",
              "      <th>confirmed_per_100k_inhabitants</th>\n",
              "    </tr>\n",
              "  </thead>\n",
              "  <tbody>\n",
              "    <tr>\n",
              "      <th>69</th>\n",
              "      <td>AL</td>\n",
              "      <td>2258</td>\n",
              "      <td>126</td>\n",
              "      <td>True</td>\n",
              "      <td>3337357.0</td>\n",
              "      <td>67.65833</td>\n",
              "    </tr>\n",
              "    <tr>\n",
              "      <th>126</th>\n",
              "      <td>AM</td>\n",
              "      <td>12599</td>\n",
              "      <td>1004</td>\n",
              "      <td>True</td>\n",
              "      <td>4144597.0</td>\n",
              "      <td>303.98613</td>\n",
              "    </tr>\n",
              "    <tr>\n",
              "      <th>144</th>\n",
              "      <td>AP</td>\n",
              "      <td>2613</td>\n",
              "      <td>72</td>\n",
              "      <td>True</td>\n",
              "      <td>845731.0</td>\n",
              "      <td>308.96349</td>\n",
              "    </tr>\n",
              "    <tr>\n",
              "      <th>318</th>\n",
              "      <td>CE</td>\n",
              "      <td>16692</td>\n",
              "      <td>1114</td>\n",
              "      <td>True</td>\n",
              "      <td>9132078.0</td>\n",
              "      <td>182.78425</td>\n",
              "    </tr>\n",
              "    <tr>\n",
              "      <th>321</th>\n",
              "      <td>DF</td>\n",
              "      <td>2682</td>\n",
              "      <td>42</td>\n",
              "      <td>True</td>\n",
              "      <td>3015268.0</td>\n",
              "      <td>88.94732</td>\n",
              "    </tr>\n",
              "    <tr>\n",
              "      <th>401</th>\n",
              "      <td>GO</td>\n",
              "      <td>1093</td>\n",
              "      <td>47</td>\n",
              "      <td>True</td>\n",
              "      <td>7018354.0</td>\n",
              "      <td>15.57345</td>\n",
              "    </tr>\n",
              "    <tr>\n",
              "      <th>565</th>\n",
              "      <td>MA</td>\n",
              "      <td>8144</td>\n",
              "      <td>399</td>\n",
              "      <td>True</td>\n",
              "      <td>7075181.0</td>\n",
              "      <td>115.10660</td>\n",
              "    </tr>\n",
              "    <tr>\n",
              "      <th>821</th>\n",
              "      <td>MG</td>\n",
              "      <td>3237</td>\n",
              "      <td>119</td>\n",
              "      <td>True</td>\n",
              "      <td>21168791.0</td>\n",
              "      <td>15.29138</td>\n",
              "    </tr>\n",
              "    <tr>\n",
              "      <th>867</th>\n",
              "      <td>MT</td>\n",
              "      <td>519</td>\n",
              "      <td>18</td>\n",
              "      <td>True</td>\n",
              "      <td>3484466.0</td>\n",
              "      <td>14.89468</td>\n",
              "    </tr>\n",
              "    <tr>\n",
              "      <th>1001</th>\n",
              "      <td>PA</td>\n",
              "      <td>7348</td>\n",
              "      <td>672</td>\n",
              "      <td>True</td>\n",
              "      <td>8602865.0</td>\n",
              "      <td>85.41341</td>\n",
              "    </tr>\n",
              "    <tr>\n",
              "      <th>1103</th>\n",
              "      <td>PB</td>\n",
              "      <td>2341</td>\n",
              "      <td>135</td>\n",
              "      <td>True</td>\n",
              "      <td>4018127.0</td>\n",
              "      <td>58.26098</td>\n",
              "    </tr>\n",
              "    <tr>\n",
              "      <th>1254</th>\n",
              "      <td>PE</td>\n",
              "      <td>13275</td>\n",
              "      <td>1047</td>\n",
              "      <td>True</td>\n",
              "      <td>9557071.0</td>\n",
              "      <td>138.90239</td>\n",
              "    </tr>\n",
              "    <tr>\n",
              "      <th>1349</th>\n",
              "      <td>PI</td>\n",
              "      <td>1332</td>\n",
              "      <td>45</td>\n",
              "      <td>True</td>\n",
              "      <td>3273227.0</td>\n",
              "      <td>40.69379</td>\n",
              "    </tr>\n",
              "    <tr>\n",
              "      <th>1504</th>\n",
              "      <td>PR</td>\n",
              "      <td>1859</td>\n",
              "      <td>112</td>\n",
              "      <td>True</td>\n",
              "      <td>11433957.0</td>\n",
              "      <td>16.25859</td>\n",
              "    </tr>\n",
              "    <tr>\n",
              "      <th>1592</th>\n",
              "      <td>RJ</td>\n",
              "      <td>17062</td>\n",
              "      <td>1714</td>\n",
              "      <td>True</td>\n",
              "      <td>17264943.0</td>\n",
              "      <td>98.82454</td>\n",
              "    </tr>\n",
              "    <tr>\n",
              "      <th>1626</th>\n",
              "      <td>RO</td>\n",
              "      <td>1302</td>\n",
              "      <td>43</td>\n",
              "      <td>True</td>\n",
              "      <td>1777225.0</td>\n",
              "      <td>73.26028</td>\n",
              "    </tr>\n",
              "    <tr>\n",
              "      <th>1643</th>\n",
              "      <td>RR</td>\n",
              "      <td>1290</td>\n",
              "      <td>21</td>\n",
              "      <td>True</td>\n",
              "      <td>605761.0</td>\n",
              "      <td>212.95527</td>\n",
              "    </tr>\n",
              "    <tr>\n",
              "      <th>1838</th>\n",
              "      <td>RS</td>\n",
              "      <td>2576</td>\n",
              "      <td>100</td>\n",
              "      <td>True</td>\n",
              "      <td>11377239.0</td>\n",
              "      <td>22.64170</td>\n",
              "    </tr>\n",
              "    <tr>\n",
              "      <th>2005</th>\n",
              "      <td>SC</td>\n",
              "      <td>3429</td>\n",
              "      <td>65</td>\n",
              "      <td>True</td>\n",
              "      <td>7164788.0</td>\n",
              "      <td>47.85906</td>\n",
              "    </tr>\n",
              "    <tr>\n",
              "      <th>2063</th>\n",
              "      <td>SE</td>\n",
              "      <td>1771</td>\n",
              "      <td>34</td>\n",
              "      <td>True</td>\n",
              "      <td>2298696.0</td>\n",
              "      <td>77.04368</td>\n",
              "    </tr>\n",
              "    <tr>\n",
              "      <th>2480</th>\n",
              "      <td>SP</td>\n",
              "      <td>45444</td>\n",
              "      <td>3709</td>\n",
              "      <td>True</td>\n",
              "      <td>45919049.0</td>\n",
              "      <td>98.96546</td>\n",
              "    </tr>\n",
              "    <tr>\n",
              "      <th>2499</th>\n",
              "      <td>AC</td>\n",
              "      <td>1335</td>\n",
              "      <td>40</td>\n",
              "      <td>True</td>\n",
              "      <td>881935.0</td>\n",
              "      <td>151.37170</td>\n",
              "    </tr>\n",
              "    <tr>\n",
              "      <th>2809</th>\n",
              "      <td>BA</td>\n",
              "      <td>5174</td>\n",
              "      <td>196</td>\n",
              "      <td>True</td>\n",
              "      <td>14873064.0</td>\n",
              "      <td>34.78772</td>\n",
              "    </tr>\n",
              "    <tr>\n",
              "      <th>3064</th>\n",
              "      <td>ES</td>\n",
              "      <td>4412</td>\n",
              "      <td>172</td>\n",
              "      <td>True</td>\n",
              "      <td>4018650.0</td>\n",
              "      <td>109.78811</td>\n",
              "    </tr>\n",
              "    <tr>\n",
              "      <th>3583</th>\n",
              "      <td>MS</td>\n",
              "      <td>346</td>\n",
              "      <td>11</td>\n",
              "      <td>True</td>\n",
              "      <td>2778986.0</td>\n",
              "      <td>12.45058</td>\n",
              "    </tr>\n",
              "    <tr>\n",
              "      <th>5263</th>\n",
              "      <td>TO</td>\n",
              "      <td>688</td>\n",
              "      <td>11</td>\n",
              "      <td>True</td>\n",
              "      <td>1572866.0</td>\n",
              "      <td>43.74181</td>\n",
              "    </tr>\n",
              "    <tr>\n",
              "      <th>7174</th>\n",
              "      <td>RN</td>\n",
              "      <td>1919</td>\n",
              "      <td>87</td>\n",
              "      <td>True</td>\n",
              "      <td>3506853.0</td>\n",
              "      <td>54.72143</td>\n",
              "    </tr>\n",
              "  </tbody>\n",
              "</table>\n",
              "</div>"
            ],
            "text/plain": [
              "     state  ...  confirmed_per_100k_inhabitants\n",
              "69      AL  ...                        67.65833\n",
              "126     AM  ...                       303.98613\n",
              "144     AP  ...                       308.96349\n",
              "318     CE  ...                       182.78425\n",
              "321     DF  ...                        88.94732\n",
              "401     GO  ...                        15.57345\n",
              "565     MA  ...                       115.10660\n",
              "821     MG  ...                        15.29138\n",
              "867     MT  ...                        14.89468\n",
              "1001    PA  ...                        85.41341\n",
              "1103    PB  ...                        58.26098\n",
              "1254    PE  ...                       138.90239\n",
              "1349    PI  ...                        40.69379\n",
              "1504    PR  ...                        16.25859\n",
              "1592    RJ  ...                        98.82454\n",
              "1626    RO  ...                        73.26028\n",
              "1643    RR  ...                       212.95527\n",
              "1838    RS  ...                        22.64170\n",
              "2005    SC  ...                        47.85906\n",
              "2063    SE  ...                        77.04368\n",
              "2480    SP  ...                        98.96546\n",
              "2499    AC  ...                       151.37170\n",
              "2809    BA  ...                        34.78772\n",
              "3064    ES  ...                       109.78811\n",
              "3583    MS  ...                        12.45058\n",
              "5263    TO  ...                        43.74181\n",
              "7174    RN  ...                        54.72143\n",
              "\n",
              "[27 rows x 6 columns]"
            ]
          },
          "metadata": {
            "tags": []
          },
          "execution_count": 43
        }
      ]
    },
    {
      "cell_type": "markdown",
      "metadata": {
        "id": "tsQ3j7KatjUk",
        "colab_type": "text"
      },
      "source": [
        "**Podemos verificar a quantidade de linhas (que são respectivamente os estados) utilizando o método len**"
      ]
    },
    {
      "cell_type": "code",
      "metadata": {
        "id": "Gq2uJEWWSDdQ",
        "colab_type": "code",
        "outputId": "21ca02f3-b635-4c28-98b3-3dce0c03ea47",
        "colab": {
          "base_uri": "https://localhost:8080/",
          "height": 35
        }
      },
      "source": [
        "len(dados)"
      ],
      "execution_count": 0,
      "outputs": [
        {
          "output_type": "execute_result",
          "data": {
            "text/plain": [
              "27"
            ]
          },
          "metadata": {
            "tags": []
          },
          "execution_count": 44
        }
      ]
    },
    {
      "cell_type": "markdown",
      "metadata": {
        "id": "KQAsSJlUtsgt",
        "colab_type": "text"
      },
      "source": [
        "Após manipular o Data Frame e obter somente os dados equivalentes aos últimos registros, podemos retirar a coluna 'is_last'"
      ]
    },
    {
      "cell_type": "markdown",
      "metadata": {
        "id": "m91v4vOCuBIO",
        "colab_type": "text"
      },
      "source": [
        "**Para isso, utilizamos o método drop do Pandas, passando como parâmetro a coluna a ser removida**"
      ]
    },
    {
      "cell_type": "code",
      "metadata": {
        "id": "pw8lOSeeSIvk",
        "colab_type": "code",
        "outputId": "0cd77110-35b2-4c90-ffbc-a2b454eaaf72",
        "colab": {
          "base_uri": "https://localhost:8080/",
          "height": 858
        }
      },
      "source": [
        "dados = dados.drop('is_last', axis=1)\n",
        "dados"
      ],
      "execution_count": 0,
      "outputs": [
        {
          "output_type": "execute_result",
          "data": {
            "text/html": [
              "<div>\n",
              "<style scoped>\n",
              "    .dataframe tbody tr th:only-of-type {\n",
              "        vertical-align: middle;\n",
              "    }\n",
              "\n",
              "    .dataframe tbody tr th {\n",
              "        vertical-align: top;\n",
              "    }\n",
              "\n",
              "    .dataframe thead th {\n",
              "        text-align: right;\n",
              "    }\n",
              "</style>\n",
              "<table border=\"1\" class=\"dataframe\">\n",
              "  <thead>\n",
              "    <tr style=\"text-align: right;\">\n",
              "      <th></th>\n",
              "      <th>state</th>\n",
              "      <th>confirmed</th>\n",
              "      <th>deaths</th>\n",
              "      <th>estimated_population_2019</th>\n",
              "      <th>confirmed_per_100k_inhabitants</th>\n",
              "    </tr>\n",
              "  </thead>\n",
              "  <tbody>\n",
              "    <tr>\n",
              "      <th>69</th>\n",
              "      <td>AL</td>\n",
              "      <td>2258</td>\n",
              "      <td>126</td>\n",
              "      <td>3337357.0</td>\n",
              "      <td>67.65833</td>\n",
              "    </tr>\n",
              "    <tr>\n",
              "      <th>126</th>\n",
              "      <td>AM</td>\n",
              "      <td>12599</td>\n",
              "      <td>1004</td>\n",
              "      <td>4144597.0</td>\n",
              "      <td>303.98613</td>\n",
              "    </tr>\n",
              "    <tr>\n",
              "      <th>144</th>\n",
              "      <td>AP</td>\n",
              "      <td>2613</td>\n",
              "      <td>72</td>\n",
              "      <td>845731.0</td>\n",
              "      <td>308.96349</td>\n",
              "    </tr>\n",
              "    <tr>\n",
              "      <th>318</th>\n",
              "      <td>CE</td>\n",
              "      <td>16692</td>\n",
              "      <td>1114</td>\n",
              "      <td>9132078.0</td>\n",
              "      <td>182.78425</td>\n",
              "    </tr>\n",
              "    <tr>\n",
              "      <th>321</th>\n",
              "      <td>DF</td>\n",
              "      <td>2682</td>\n",
              "      <td>42</td>\n",
              "      <td>3015268.0</td>\n",
              "      <td>88.94732</td>\n",
              "    </tr>\n",
              "    <tr>\n",
              "      <th>401</th>\n",
              "      <td>GO</td>\n",
              "      <td>1093</td>\n",
              "      <td>47</td>\n",
              "      <td>7018354.0</td>\n",
              "      <td>15.57345</td>\n",
              "    </tr>\n",
              "    <tr>\n",
              "      <th>565</th>\n",
              "      <td>MA</td>\n",
              "      <td>8144</td>\n",
              "      <td>399</td>\n",
              "      <td>7075181.0</td>\n",
              "      <td>115.10660</td>\n",
              "    </tr>\n",
              "    <tr>\n",
              "      <th>821</th>\n",
              "      <td>MG</td>\n",
              "      <td>3237</td>\n",
              "      <td>119</td>\n",
              "      <td>21168791.0</td>\n",
              "      <td>15.29138</td>\n",
              "    </tr>\n",
              "    <tr>\n",
              "      <th>867</th>\n",
              "      <td>MT</td>\n",
              "      <td>519</td>\n",
              "      <td>18</td>\n",
              "      <td>3484466.0</td>\n",
              "      <td>14.89468</td>\n",
              "    </tr>\n",
              "    <tr>\n",
              "      <th>1001</th>\n",
              "      <td>PA</td>\n",
              "      <td>7348</td>\n",
              "      <td>672</td>\n",
              "      <td>8602865.0</td>\n",
              "      <td>85.41341</td>\n",
              "    </tr>\n",
              "    <tr>\n",
              "      <th>1103</th>\n",
              "      <td>PB</td>\n",
              "      <td>2341</td>\n",
              "      <td>135</td>\n",
              "      <td>4018127.0</td>\n",
              "      <td>58.26098</td>\n",
              "    </tr>\n",
              "    <tr>\n",
              "      <th>1254</th>\n",
              "      <td>PE</td>\n",
              "      <td>13275</td>\n",
              "      <td>1047</td>\n",
              "      <td>9557071.0</td>\n",
              "      <td>138.90239</td>\n",
              "    </tr>\n",
              "    <tr>\n",
              "      <th>1349</th>\n",
              "      <td>PI</td>\n",
              "      <td>1332</td>\n",
              "      <td>45</td>\n",
              "      <td>3273227.0</td>\n",
              "      <td>40.69379</td>\n",
              "    </tr>\n",
              "    <tr>\n",
              "      <th>1504</th>\n",
              "      <td>PR</td>\n",
              "      <td>1859</td>\n",
              "      <td>112</td>\n",
              "      <td>11433957.0</td>\n",
              "      <td>16.25859</td>\n",
              "    </tr>\n",
              "    <tr>\n",
              "      <th>1592</th>\n",
              "      <td>RJ</td>\n",
              "      <td>17062</td>\n",
              "      <td>1714</td>\n",
              "      <td>17264943.0</td>\n",
              "      <td>98.82454</td>\n",
              "    </tr>\n",
              "    <tr>\n",
              "      <th>1626</th>\n",
              "      <td>RO</td>\n",
              "      <td>1302</td>\n",
              "      <td>43</td>\n",
              "      <td>1777225.0</td>\n",
              "      <td>73.26028</td>\n",
              "    </tr>\n",
              "    <tr>\n",
              "      <th>1643</th>\n",
              "      <td>RR</td>\n",
              "      <td>1290</td>\n",
              "      <td>21</td>\n",
              "      <td>605761.0</td>\n",
              "      <td>212.95527</td>\n",
              "    </tr>\n",
              "    <tr>\n",
              "      <th>1838</th>\n",
              "      <td>RS</td>\n",
              "      <td>2576</td>\n",
              "      <td>100</td>\n",
              "      <td>11377239.0</td>\n",
              "      <td>22.64170</td>\n",
              "    </tr>\n",
              "    <tr>\n",
              "      <th>2005</th>\n",
              "      <td>SC</td>\n",
              "      <td>3429</td>\n",
              "      <td>65</td>\n",
              "      <td>7164788.0</td>\n",
              "      <td>47.85906</td>\n",
              "    </tr>\n",
              "    <tr>\n",
              "      <th>2063</th>\n",
              "      <td>SE</td>\n",
              "      <td>1771</td>\n",
              "      <td>34</td>\n",
              "      <td>2298696.0</td>\n",
              "      <td>77.04368</td>\n",
              "    </tr>\n",
              "    <tr>\n",
              "      <th>2480</th>\n",
              "      <td>SP</td>\n",
              "      <td>45444</td>\n",
              "      <td>3709</td>\n",
              "      <td>45919049.0</td>\n",
              "      <td>98.96546</td>\n",
              "    </tr>\n",
              "    <tr>\n",
              "      <th>2499</th>\n",
              "      <td>AC</td>\n",
              "      <td>1335</td>\n",
              "      <td>40</td>\n",
              "      <td>881935.0</td>\n",
              "      <td>151.37170</td>\n",
              "    </tr>\n",
              "    <tr>\n",
              "      <th>2809</th>\n",
              "      <td>BA</td>\n",
              "      <td>5174</td>\n",
              "      <td>196</td>\n",
              "      <td>14873064.0</td>\n",
              "      <td>34.78772</td>\n",
              "    </tr>\n",
              "    <tr>\n",
              "      <th>3064</th>\n",
              "      <td>ES</td>\n",
              "      <td>4412</td>\n",
              "      <td>172</td>\n",
              "      <td>4018650.0</td>\n",
              "      <td>109.78811</td>\n",
              "    </tr>\n",
              "    <tr>\n",
              "      <th>3583</th>\n",
              "      <td>MS</td>\n",
              "      <td>346</td>\n",
              "      <td>11</td>\n",
              "      <td>2778986.0</td>\n",
              "      <td>12.45058</td>\n",
              "    </tr>\n",
              "    <tr>\n",
              "      <th>5263</th>\n",
              "      <td>TO</td>\n",
              "      <td>688</td>\n",
              "      <td>11</td>\n",
              "      <td>1572866.0</td>\n",
              "      <td>43.74181</td>\n",
              "    </tr>\n",
              "    <tr>\n",
              "      <th>7174</th>\n",
              "      <td>RN</td>\n",
              "      <td>1919</td>\n",
              "      <td>87</td>\n",
              "      <td>3506853.0</td>\n",
              "      <td>54.72143</td>\n",
              "    </tr>\n",
              "  </tbody>\n",
              "</table>\n",
              "</div>"
            ],
            "text/plain": [
              "     state  ...  confirmed_per_100k_inhabitants\n",
              "69      AL  ...                        67.65833\n",
              "126     AM  ...                       303.98613\n",
              "144     AP  ...                       308.96349\n",
              "318     CE  ...                       182.78425\n",
              "321     DF  ...                        88.94732\n",
              "401     GO  ...                        15.57345\n",
              "565     MA  ...                       115.10660\n",
              "821     MG  ...                        15.29138\n",
              "867     MT  ...                        14.89468\n",
              "1001    PA  ...                        85.41341\n",
              "1103    PB  ...                        58.26098\n",
              "1254    PE  ...                       138.90239\n",
              "1349    PI  ...                        40.69379\n",
              "1504    PR  ...                        16.25859\n",
              "1592    RJ  ...                        98.82454\n",
              "1626    RO  ...                        73.26028\n",
              "1643    RR  ...                       212.95527\n",
              "1838    RS  ...                        22.64170\n",
              "2005    SC  ...                        47.85906\n",
              "2063    SE  ...                        77.04368\n",
              "2480    SP  ...                        98.96546\n",
              "2499    AC  ...                       151.37170\n",
              "2809    BA  ...                        34.78772\n",
              "3064    ES  ...                       109.78811\n",
              "3583    MS  ...                        12.45058\n",
              "5263    TO  ...                        43.74181\n",
              "7174    RN  ...                        54.72143\n",
              "\n",
              "[27 rows x 5 columns]"
            ]
          },
          "metadata": {
            "tags": []
          },
          "execution_count": 45
        }
      ]
    },
    {
      "cell_type": "markdown",
      "metadata": {
        "id": "sxSNpRX6el6P",
        "colab_type": "text"
      },
      "source": [
        "# Verificando os Dados por Região"
      ]
    },
    {
      "cell_type": "markdown",
      "metadata": {
        "id": "LZw9_wYqzFZX",
        "colab_type": "text"
      },
      "source": [
        "Nessa parte do estudo, desejamos agrupar os estados de acordo com a sua respectiva região"
      ]
    },
    {
      "cell_type": "markdown",
      "metadata": {
        "id": "jif90Y7ezM7O",
        "colab_type": "text"
      },
      "source": [
        "**Para isso, criaremos 5 Data Frames, baseado no Data Frame principal, utilizando o método query() para filtrar os estados desejados para cada região**"
      ]
    },
    {
      "cell_type": "code",
      "metadata": {
        "id": "zQhO5qdMeqHC",
        "colab_type": "code",
        "outputId": "2e1aae68-cac3-41a7-84d3-636be7c70016",
        "colab": {
          "base_uri": "https://localhost:8080/",
          "height": 228
        }
      },
      "source": [
        "norte = dados.query(\"state in ['AC', 'AP', 'AM', 'PA', 'TO', 'RR']\")\n",
        "norte"
      ],
      "execution_count": 0,
      "outputs": [
        {
          "output_type": "execute_result",
          "data": {
            "text/html": [
              "<div>\n",
              "<style scoped>\n",
              "    .dataframe tbody tr th:only-of-type {\n",
              "        vertical-align: middle;\n",
              "    }\n",
              "\n",
              "    .dataframe tbody tr th {\n",
              "        vertical-align: top;\n",
              "    }\n",
              "\n",
              "    .dataframe thead th {\n",
              "        text-align: right;\n",
              "    }\n",
              "</style>\n",
              "<table border=\"1\" class=\"dataframe\">\n",
              "  <thead>\n",
              "    <tr style=\"text-align: right;\">\n",
              "      <th></th>\n",
              "      <th>state</th>\n",
              "      <th>confirmed</th>\n",
              "      <th>deaths</th>\n",
              "      <th>estimated_population_2019</th>\n",
              "      <th>confirmed_per_100k_inhabitants</th>\n",
              "    </tr>\n",
              "  </thead>\n",
              "  <tbody>\n",
              "    <tr>\n",
              "      <th>126</th>\n",
              "      <td>AM</td>\n",
              "      <td>12599</td>\n",
              "      <td>1004</td>\n",
              "      <td>4144597.0</td>\n",
              "      <td>303.98613</td>\n",
              "    </tr>\n",
              "    <tr>\n",
              "      <th>144</th>\n",
              "      <td>AP</td>\n",
              "      <td>2613</td>\n",
              "      <td>72</td>\n",
              "      <td>845731.0</td>\n",
              "      <td>308.96349</td>\n",
              "    </tr>\n",
              "    <tr>\n",
              "      <th>1001</th>\n",
              "      <td>PA</td>\n",
              "      <td>7348</td>\n",
              "      <td>672</td>\n",
              "      <td>8602865.0</td>\n",
              "      <td>85.41341</td>\n",
              "    </tr>\n",
              "    <tr>\n",
              "      <th>1643</th>\n",
              "      <td>RR</td>\n",
              "      <td>1290</td>\n",
              "      <td>21</td>\n",
              "      <td>605761.0</td>\n",
              "      <td>212.95527</td>\n",
              "    </tr>\n",
              "    <tr>\n",
              "      <th>2499</th>\n",
              "      <td>AC</td>\n",
              "      <td>1335</td>\n",
              "      <td>40</td>\n",
              "      <td>881935.0</td>\n",
              "      <td>151.37170</td>\n",
              "    </tr>\n",
              "    <tr>\n",
              "      <th>5263</th>\n",
              "      <td>TO</td>\n",
              "      <td>688</td>\n",
              "      <td>11</td>\n",
              "      <td>1572866.0</td>\n",
              "      <td>43.74181</td>\n",
              "    </tr>\n",
              "  </tbody>\n",
              "</table>\n",
              "</div>"
            ],
            "text/plain": [
              "     state  ...  confirmed_per_100k_inhabitants\n",
              "126     AM  ...                       303.98613\n",
              "144     AP  ...                       308.96349\n",
              "1001    PA  ...                        85.41341\n",
              "1643    RR  ...                       212.95527\n",
              "2499    AC  ...                       151.37170\n",
              "5263    TO  ...                        43.74181\n",
              "\n",
              "[6 rows x 5 columns]"
            ]
          },
          "metadata": {
            "tags": []
          },
          "execution_count": 46
        }
      ]
    },
    {
      "cell_type": "code",
      "metadata": {
        "id": "Te-zMK6qf89K",
        "colab_type": "code",
        "outputId": "702c7bc6-06bf-41df-99dd-f0a7369648c0",
        "colab": {
          "base_uri": "https://localhost:8080/",
          "height": 288
        }
      },
      "source": [
        "nordeste = dados.query(\"state in ['AL', 'BA', 'CE', 'MA', 'PB', 'PE', 'PI\t', 'RN', 'SE']\")\n",
        "nordeste"
      ],
      "execution_count": 0,
      "outputs": [
        {
          "output_type": "execute_result",
          "data": {
            "text/html": [
              "<div>\n",
              "<style scoped>\n",
              "    .dataframe tbody tr th:only-of-type {\n",
              "        vertical-align: middle;\n",
              "    }\n",
              "\n",
              "    .dataframe tbody tr th {\n",
              "        vertical-align: top;\n",
              "    }\n",
              "\n",
              "    .dataframe thead th {\n",
              "        text-align: right;\n",
              "    }\n",
              "</style>\n",
              "<table border=\"1\" class=\"dataframe\">\n",
              "  <thead>\n",
              "    <tr style=\"text-align: right;\">\n",
              "      <th></th>\n",
              "      <th>state</th>\n",
              "      <th>confirmed</th>\n",
              "      <th>deaths</th>\n",
              "      <th>estimated_population_2019</th>\n",
              "      <th>confirmed_per_100k_inhabitants</th>\n",
              "    </tr>\n",
              "  </thead>\n",
              "  <tbody>\n",
              "    <tr>\n",
              "      <th>69</th>\n",
              "      <td>AL</td>\n",
              "      <td>2258</td>\n",
              "      <td>126</td>\n",
              "      <td>3337357.0</td>\n",
              "      <td>67.65833</td>\n",
              "    </tr>\n",
              "    <tr>\n",
              "      <th>318</th>\n",
              "      <td>CE</td>\n",
              "      <td>16692</td>\n",
              "      <td>1114</td>\n",
              "      <td>9132078.0</td>\n",
              "      <td>182.78425</td>\n",
              "    </tr>\n",
              "    <tr>\n",
              "      <th>565</th>\n",
              "      <td>MA</td>\n",
              "      <td>8144</td>\n",
              "      <td>399</td>\n",
              "      <td>7075181.0</td>\n",
              "      <td>115.10660</td>\n",
              "    </tr>\n",
              "    <tr>\n",
              "      <th>1103</th>\n",
              "      <td>PB</td>\n",
              "      <td>2341</td>\n",
              "      <td>135</td>\n",
              "      <td>4018127.0</td>\n",
              "      <td>58.26098</td>\n",
              "    </tr>\n",
              "    <tr>\n",
              "      <th>1254</th>\n",
              "      <td>PE</td>\n",
              "      <td>13275</td>\n",
              "      <td>1047</td>\n",
              "      <td>9557071.0</td>\n",
              "      <td>138.90239</td>\n",
              "    </tr>\n",
              "    <tr>\n",
              "      <th>2063</th>\n",
              "      <td>SE</td>\n",
              "      <td>1771</td>\n",
              "      <td>34</td>\n",
              "      <td>2298696.0</td>\n",
              "      <td>77.04368</td>\n",
              "    </tr>\n",
              "    <tr>\n",
              "      <th>2809</th>\n",
              "      <td>BA</td>\n",
              "      <td>5174</td>\n",
              "      <td>196</td>\n",
              "      <td>14873064.0</td>\n",
              "      <td>34.78772</td>\n",
              "    </tr>\n",
              "    <tr>\n",
              "      <th>7174</th>\n",
              "      <td>RN</td>\n",
              "      <td>1919</td>\n",
              "      <td>87</td>\n",
              "      <td>3506853.0</td>\n",
              "      <td>54.72143</td>\n",
              "    </tr>\n",
              "  </tbody>\n",
              "</table>\n",
              "</div>"
            ],
            "text/plain": [
              "     state  ...  confirmed_per_100k_inhabitants\n",
              "69      AL  ...                        67.65833\n",
              "318     CE  ...                       182.78425\n",
              "565     MA  ...                       115.10660\n",
              "1103    PB  ...                        58.26098\n",
              "1254    PE  ...                       138.90239\n",
              "2063    SE  ...                        77.04368\n",
              "2809    BA  ...                        34.78772\n",
              "7174    RN  ...                        54.72143\n",
              "\n",
              "[8 rows x 5 columns]"
            ]
          },
          "metadata": {
            "tags": []
          },
          "execution_count": 47
        }
      ]
    },
    {
      "cell_type": "code",
      "metadata": {
        "id": "ZHEOyS_6f9XU",
        "colab_type": "code",
        "outputId": "370b1c97-99f7-4ef7-9f5d-5eae1bc6ee7a",
        "colab": {
          "base_uri": "https://localhost:8080/",
          "height": 168
        }
      },
      "source": [
        "centro_oeste = dados.query(\"state in ['DF', 'GO', 'MT', 'MS']\")\n",
        "centro_oeste"
      ],
      "execution_count": 0,
      "outputs": [
        {
          "output_type": "execute_result",
          "data": {
            "text/html": [
              "<div>\n",
              "<style scoped>\n",
              "    .dataframe tbody tr th:only-of-type {\n",
              "        vertical-align: middle;\n",
              "    }\n",
              "\n",
              "    .dataframe tbody tr th {\n",
              "        vertical-align: top;\n",
              "    }\n",
              "\n",
              "    .dataframe thead th {\n",
              "        text-align: right;\n",
              "    }\n",
              "</style>\n",
              "<table border=\"1\" class=\"dataframe\">\n",
              "  <thead>\n",
              "    <tr style=\"text-align: right;\">\n",
              "      <th></th>\n",
              "      <th>state</th>\n",
              "      <th>confirmed</th>\n",
              "      <th>deaths</th>\n",
              "      <th>estimated_population_2019</th>\n",
              "      <th>confirmed_per_100k_inhabitants</th>\n",
              "    </tr>\n",
              "  </thead>\n",
              "  <tbody>\n",
              "    <tr>\n",
              "      <th>321</th>\n",
              "      <td>DF</td>\n",
              "      <td>2682</td>\n",
              "      <td>42</td>\n",
              "      <td>3015268.0</td>\n",
              "      <td>88.94732</td>\n",
              "    </tr>\n",
              "    <tr>\n",
              "      <th>401</th>\n",
              "      <td>GO</td>\n",
              "      <td>1093</td>\n",
              "      <td>47</td>\n",
              "      <td>7018354.0</td>\n",
              "      <td>15.57345</td>\n",
              "    </tr>\n",
              "    <tr>\n",
              "      <th>867</th>\n",
              "      <td>MT</td>\n",
              "      <td>519</td>\n",
              "      <td>18</td>\n",
              "      <td>3484466.0</td>\n",
              "      <td>14.89468</td>\n",
              "    </tr>\n",
              "    <tr>\n",
              "      <th>3583</th>\n",
              "      <td>MS</td>\n",
              "      <td>346</td>\n",
              "      <td>11</td>\n",
              "      <td>2778986.0</td>\n",
              "      <td>12.45058</td>\n",
              "    </tr>\n",
              "  </tbody>\n",
              "</table>\n",
              "</div>"
            ],
            "text/plain": [
              "     state  ...  confirmed_per_100k_inhabitants\n",
              "321     DF  ...                        88.94732\n",
              "401     GO  ...                        15.57345\n",
              "867     MT  ...                        14.89468\n",
              "3583    MS  ...                        12.45058\n",
              "\n",
              "[4 rows x 5 columns]"
            ]
          },
          "metadata": {
            "tags": []
          },
          "execution_count": 48
        }
      ]
    },
    {
      "cell_type": "code",
      "metadata": {
        "id": "5ay01k_xf9oB",
        "colab_type": "code",
        "outputId": "2dd22332-8a7d-4215-a191-bb4f057e9d80",
        "colab": {
          "base_uri": "https://localhost:8080/",
          "height": 168
        }
      },
      "source": [
        "sudeste = dados.query(\"state in ['ES', 'MG', 'RJ', 'SP']\")\n",
        "sudeste"
      ],
      "execution_count": 0,
      "outputs": [
        {
          "output_type": "execute_result",
          "data": {
            "text/html": [
              "<div>\n",
              "<style scoped>\n",
              "    .dataframe tbody tr th:only-of-type {\n",
              "        vertical-align: middle;\n",
              "    }\n",
              "\n",
              "    .dataframe tbody tr th {\n",
              "        vertical-align: top;\n",
              "    }\n",
              "\n",
              "    .dataframe thead th {\n",
              "        text-align: right;\n",
              "    }\n",
              "</style>\n",
              "<table border=\"1\" class=\"dataframe\">\n",
              "  <thead>\n",
              "    <tr style=\"text-align: right;\">\n",
              "      <th></th>\n",
              "      <th>state</th>\n",
              "      <th>confirmed</th>\n",
              "      <th>deaths</th>\n",
              "      <th>estimated_population_2019</th>\n",
              "      <th>confirmed_per_100k_inhabitants</th>\n",
              "    </tr>\n",
              "  </thead>\n",
              "  <tbody>\n",
              "    <tr>\n",
              "      <th>821</th>\n",
              "      <td>MG</td>\n",
              "      <td>3237</td>\n",
              "      <td>119</td>\n",
              "      <td>21168791.0</td>\n",
              "      <td>15.29138</td>\n",
              "    </tr>\n",
              "    <tr>\n",
              "      <th>1592</th>\n",
              "      <td>RJ</td>\n",
              "      <td>17062</td>\n",
              "      <td>1714</td>\n",
              "      <td>17264943.0</td>\n",
              "      <td>98.82454</td>\n",
              "    </tr>\n",
              "    <tr>\n",
              "      <th>2480</th>\n",
              "      <td>SP</td>\n",
              "      <td>45444</td>\n",
              "      <td>3709</td>\n",
              "      <td>45919049.0</td>\n",
              "      <td>98.96546</td>\n",
              "    </tr>\n",
              "    <tr>\n",
              "      <th>3064</th>\n",
              "      <td>ES</td>\n",
              "      <td>4412</td>\n",
              "      <td>172</td>\n",
              "      <td>4018650.0</td>\n",
              "      <td>109.78811</td>\n",
              "    </tr>\n",
              "  </tbody>\n",
              "</table>\n",
              "</div>"
            ],
            "text/plain": [
              "     state  ...  confirmed_per_100k_inhabitants\n",
              "821     MG  ...                        15.29138\n",
              "1592    RJ  ...                        98.82454\n",
              "2480    SP  ...                        98.96546\n",
              "3064    ES  ...                       109.78811\n",
              "\n",
              "[4 rows x 5 columns]"
            ]
          },
          "metadata": {
            "tags": []
          },
          "execution_count": 49
        }
      ]
    },
    {
      "cell_type": "code",
      "metadata": {
        "id": "KdFe-EiJf92J",
        "colab_type": "code",
        "outputId": "e0824de2-3b5f-4eda-a78b-00964f87d9de",
        "colab": {
          "base_uri": "https://localhost:8080/",
          "height": 138
        }
      },
      "source": [
        "sul = dados.query(\"state in ['PR', 'RS', 'SC']\")\n",
        "sul"
      ],
      "execution_count": 0,
      "outputs": [
        {
          "output_type": "execute_result",
          "data": {
            "text/html": [
              "<div>\n",
              "<style scoped>\n",
              "    .dataframe tbody tr th:only-of-type {\n",
              "        vertical-align: middle;\n",
              "    }\n",
              "\n",
              "    .dataframe tbody tr th {\n",
              "        vertical-align: top;\n",
              "    }\n",
              "\n",
              "    .dataframe thead th {\n",
              "        text-align: right;\n",
              "    }\n",
              "</style>\n",
              "<table border=\"1\" class=\"dataframe\">\n",
              "  <thead>\n",
              "    <tr style=\"text-align: right;\">\n",
              "      <th></th>\n",
              "      <th>state</th>\n",
              "      <th>confirmed</th>\n",
              "      <th>deaths</th>\n",
              "      <th>estimated_population_2019</th>\n",
              "      <th>confirmed_per_100k_inhabitants</th>\n",
              "    </tr>\n",
              "  </thead>\n",
              "  <tbody>\n",
              "    <tr>\n",
              "      <th>1504</th>\n",
              "      <td>PR</td>\n",
              "      <td>1859</td>\n",
              "      <td>112</td>\n",
              "      <td>11433957.0</td>\n",
              "      <td>16.25859</td>\n",
              "    </tr>\n",
              "    <tr>\n",
              "      <th>1838</th>\n",
              "      <td>RS</td>\n",
              "      <td>2576</td>\n",
              "      <td>100</td>\n",
              "      <td>11377239.0</td>\n",
              "      <td>22.64170</td>\n",
              "    </tr>\n",
              "    <tr>\n",
              "      <th>2005</th>\n",
              "      <td>SC</td>\n",
              "      <td>3429</td>\n",
              "      <td>65</td>\n",
              "      <td>7164788.0</td>\n",
              "      <td>47.85906</td>\n",
              "    </tr>\n",
              "  </tbody>\n",
              "</table>\n",
              "</div>"
            ],
            "text/plain": [
              "     state  ...  confirmed_per_100k_inhabitants\n",
              "1504    PR  ...                        16.25859\n",
              "1838    RS  ...                        22.64170\n",
              "2005    SC  ...                        47.85906\n",
              "\n",
              "[3 rows x 5 columns]"
            ]
          },
          "metadata": {
            "tags": []
          },
          "execution_count": 50
        }
      ]
    },
    {
      "cell_type": "markdown",
      "metadata": {
        "id": "PINBfVqYi7Zs",
        "colab_type": "text"
      },
      "source": [
        "# Total de Casos Confirmados por Região"
      ]
    },
    {
      "cell_type": "markdown",
      "metadata": {
        "id": "H8-TWaNjze1-",
        "colab_type": "text"
      },
      "source": [
        "**Agora, depois de agrupar os estados e visualizar os dados das regiões, podemos somá-los para verificar qual região possui o maior número de casos confirmados**"
      ]
    },
    {
      "cell_type": "code",
      "metadata": {
        "id": "AX9BxbiqhboB",
        "colab_type": "code",
        "outputId": "d1e96618-4045-427e-8ea3-d6d281ea80ab",
        "colab": {
          "base_uri": "https://localhost:8080/",
          "height": 35
        }
      },
      "source": [
        "casos_norte = norte['confirmed'].sum()\n",
        "casos_norte "
      ],
      "execution_count": 0,
      "outputs": [
        {
          "output_type": "execute_result",
          "data": {
            "text/plain": [
              "25873"
            ]
          },
          "metadata": {
            "tags": []
          },
          "execution_count": 51
        }
      ]
    },
    {
      "cell_type": "code",
      "metadata": {
        "id": "S35He7VlipDq",
        "colab_type": "code",
        "outputId": "37e53523-51b4-4426-b07d-117c0d347aa9",
        "colab": {
          "base_uri": "https://localhost:8080/",
          "height": 35
        }
      },
      "source": [
        "casos_nordeste = nordeste['confirmed'].sum()\n",
        "casos_nordeste "
      ],
      "execution_count": 0,
      "outputs": [
        {
          "output_type": "execute_result",
          "data": {
            "text/plain": [
              "51574"
            ]
          },
          "metadata": {
            "tags": []
          },
          "execution_count": 52
        }
      ]
    },
    {
      "cell_type": "code",
      "metadata": {
        "id": "01e0Y-m0ipU-",
        "colab_type": "code",
        "outputId": "931d8cb7-e310-4662-96df-45c7feae7d2c",
        "colab": {
          "base_uri": "https://localhost:8080/",
          "height": 35
        }
      },
      "source": [
        "casos_centro_oeste = centro_oeste['confirmed'].sum()\n",
        "casos_centro_oeste"
      ],
      "execution_count": 0,
      "outputs": [
        {
          "output_type": "execute_result",
          "data": {
            "text/plain": [
              "4640"
            ]
          },
          "metadata": {
            "tags": []
          },
          "execution_count": 53
        }
      ]
    },
    {
      "cell_type": "code",
      "metadata": {
        "id": "jyl56H0XipiO",
        "colab_type": "code",
        "outputId": "1e393d19-6109-4679-8e1c-d154f838a671",
        "colab": {
          "base_uri": "https://localhost:8080/",
          "height": 35
        }
      },
      "source": [
        "casos_sudeste = sudeste['confirmed'].sum()\n",
        "casos_sudeste"
      ],
      "execution_count": 0,
      "outputs": [
        {
          "output_type": "execute_result",
          "data": {
            "text/plain": [
              "70155"
            ]
          },
          "metadata": {
            "tags": []
          },
          "execution_count": 54
        }
      ]
    },
    {
      "cell_type": "code",
      "metadata": {
        "id": "VGq0ArwSiJY0",
        "colab_type": "code",
        "outputId": "7a9ba26a-3e9a-4b49-b3c2-31c1fd089ea9",
        "colab": {
          "base_uri": "https://localhost:8080/",
          "height": 35
        }
      },
      "source": [
        "casos_sul = sul['confirmed'].sum()\n",
        "casos_sul"
      ],
      "execution_count": 0,
      "outputs": [
        {
          "output_type": "execute_result",
          "data": {
            "text/plain": [
              "7864"
            ]
          },
          "metadata": {
            "tags": []
          },
          "execution_count": 55
        }
      ]
    },
    {
      "cell_type": "markdown",
      "metadata": {
        "id": "vgzCsT1Qzvzr",
        "colab_type": "text"
      },
      "source": [
        "Depois de verificar, podemos visualizar o gráfico de casos confirmados por região"
      ]
    },
    {
      "cell_type": "markdown",
      "metadata": {
        "id": "-RNq4Qr-z2tn",
        "colab_type": "text"
      },
      "source": [
        "**Para isso, iremos agrupar as regiões e os casos somados, e gerar um gráfico de barras respectivo entre a região e os casos para mesma**"
      ]
    },
    {
      "cell_type": "code",
      "metadata": {
        "id": "ZiVYjvx3jkl6",
        "colab_type": "code",
        "colab": {}
      },
      "source": [
        "regioes = ['Norte', 'Nordeste', 'Centro-Oeste', 'Sudeste', 'Sul']"
      ],
      "execution_count": 0,
      "outputs": []
    },
    {
      "cell_type": "code",
      "metadata": {
        "id": "5gi0fmpokYVv",
        "colab_type": "code",
        "colab": {}
      },
      "source": [
        "casos = [casos_norte, casos_nordeste, casos_centro_oeste, casos_sudeste, casos_sul]"
      ],
      "execution_count": 0,
      "outputs": []
    },
    {
      "cell_type": "markdown",
      "metadata": {
        "id": "Jg1EqaxHwQdr",
        "colab_type": "text"
      },
      "source": [
        "**É possível gerar esse gráfico utilizando matplotlib de forma bem simples, com o plt.bar()**"
      ]
    },
    {
      "cell_type": "code",
      "metadata": {
        "id": "5uhIedyDULpg",
        "colab_type": "code",
        "outputId": "dda1ddc7-94d9-42e9-b0ff-6381e6d76884",
        "colab": {
          "base_uri": "https://localhost:8080/",
          "height": 339
        }
      },
      "source": [
        "x = regioes\n",
        "y = casos\n",
        "plt.bar(x, y)\n",
        "\n",
        "plt.title('Gráfico do Número de Casos por Regiões do Brasil')\n",
        "plt.xlabel('Regiões do Brasil')\n",
        "plt.ylabel('Número de Casos')\n",
        "plt.xticks(rotation=45)\n",
        "\n",
        "plt.show()"
      ],
      "execution_count": 0,
      "outputs": [
        {
          "output_type": "display_data",
          "data": {
            "image/png": "[encoded data removed]",
            "text/plain": [
              "<Figure size 432x288 with 1 Axes>"
            ]
          },
          "metadata": {
            "tags": []
          }
        }
      ]
    },
    {
      "cell_type": "markdown",
      "metadata": {
        "id": "Wx1Xq2j_i_kQ",
        "colab_type": "text"
      },
      "source": [
        "# Total de Mortes por Região"
      ]
    },
    {
      "cell_type": "markdown",
      "metadata": {
        "id": "dOjbYfvs0IKb",
        "colab_type": "text"
      },
      "source": [
        "De forma análoga ao processo anterior, iremos verificar agora o número de mortes por região, podendo inferir qual possui o maior valor registrado"
      ]
    },
    {
      "cell_type": "code",
      "metadata": {
        "id": "0bT5OfTFjD1t",
        "colab_type": "code",
        "outputId": "02d2b664-830f-4465-89e6-4a8d65bb06cf",
        "colab": {
          "base_uri": "https://localhost:8080/",
          "height": 35
        }
      },
      "source": [
        "mortes_norte = norte['deaths'].sum()\n",
        "mortes_norte "
      ],
      "execution_count": 0,
      "outputs": [
        {
          "output_type": "execute_result",
          "data": {
            "text/plain": [
              "1820"
            ]
          },
          "metadata": {
            "tags": []
          },
          "execution_count": 59
        }
      ]
    },
    {
      "cell_type": "code",
      "metadata": {
        "id": "s1z4E1ysjHKF",
        "colab_type": "code",
        "outputId": "a9282c6c-3d81-4622-f8ae-8ccd76961a02",
        "colab": {
          "base_uri": "https://localhost:8080/",
          "height": 35
        }
      },
      "source": [
        "mortes_nordeste = nordeste['deaths'].sum()\n",
        "mortes_nordeste "
      ],
      "execution_count": 0,
      "outputs": [
        {
          "output_type": "execute_result",
          "data": {
            "text/plain": [
              "3138"
            ]
          },
          "metadata": {
            "tags": []
          },
          "execution_count": 60
        }
      ]
    },
    {
      "cell_type": "code",
      "metadata": {
        "id": "Xo5LsugbjHfg",
        "colab_type": "code",
        "outputId": "c4e0ba53-c946-465e-ab80-5de992e14f84",
        "colab": {
          "base_uri": "https://localhost:8080/",
          "height": 35
        }
      },
      "source": [
        "mortes_centro_oeste = centro_oeste['deaths'].sum()\n",
        "mortes_centro_oeste "
      ],
      "execution_count": 0,
      "outputs": [
        {
          "output_type": "execute_result",
          "data": {
            "text/plain": [
              "118"
            ]
          },
          "metadata": {
            "tags": []
          },
          "execution_count": 61
        }
      ]
    },
    {
      "cell_type": "code",
      "metadata": {
        "id": "4Hai0Q0RjHtT",
        "colab_type": "code",
        "outputId": "2de6c737-8548-4526-f740-13c6d509511f",
        "colab": {
          "base_uri": "https://localhost:8080/",
          "height": 35
        }
      },
      "source": [
        "mortes_sudeste = sudeste['deaths'].sum()\n",
        "mortes_sudeste "
      ],
      "execution_count": 0,
      "outputs": [
        {
          "output_type": "execute_result",
          "data": {
            "text/plain": [
              "5714"
            ]
          },
          "metadata": {
            "tags": []
          },
          "execution_count": 62
        }
      ]
    },
    {
      "cell_type": "code",
      "metadata": {
        "id": "cEVuOQCajH7S",
        "colab_type": "code",
        "outputId": "c8d71b00-656d-455e-92ad-3658c0f1b8ed",
        "colab": {
          "base_uri": "https://localhost:8080/",
          "height": 35
        }
      },
      "source": [
        "mortes_sul = sul['deaths'].sum()\n",
        "mortes_sul "
      ],
      "execution_count": 0,
      "outputs": [
        {
          "output_type": "execute_result",
          "data": {
            "text/plain": [
              "277"
            ]
          },
          "metadata": {
            "tags": []
          },
          "execution_count": 63
        }
      ]
    },
    {
      "cell_type": "markdown",
      "metadata": {
        "id": "5fmsOOmY0WiO",
        "colab_type": "text"
      },
      "source": [
        "**Iremos também agrupar os dados de forma com que as regiões fiquem relacionadas com seus números respectivos**"
      ]
    },
    {
      "cell_type": "code",
      "metadata": {
        "id": "PoJWruhjlOSL",
        "colab_type": "code",
        "colab": {}
      },
      "source": [
        "mortes = [mortes_norte, mortes_nordeste, mortes_centro_oeste, mortes_sudeste, mortes_sul]"
      ],
      "execution_count": 0,
      "outputs": []
    },
    {
      "cell_type": "markdown",
      "metadata": {
        "id": "1mgDucaU0iUJ",
        "colab_type": "text"
      },
      "source": [
        "**E por fim, podemos também visualizar os números em forma de gráfico de barras**"
      ]
    },
    {
      "cell_type": "code",
      "metadata": {
        "id": "bfyhjMjSlNeI",
        "colab_type": "code",
        "outputId": "8ef828bc-919e-45f0-f8d3-7d5f2b86435e",
        "colab": {
          "base_uri": "https://localhost:8080/",
          "height": 339
        }
      },
      "source": [
        "x = regioes\n",
        "y = mortes\n",
        "plt.bar(x, y)\n",
        "\n",
        "plt.title('Gráfico do Número de Mortes por Regiões do Brasil')\n",
        "plt.xlabel('Regiões do Brasil')\n",
        "plt.ylabel('Número de Mortes')\n",
        "plt.xticks(rotation=45)\n",
        "\n",
        "plt.show()"
      ],
      "execution_count": 0,
      "outputs": [
        {
          "output_type": "display_data",
          "data": {
            "image/png": "[encoded data removed]",
            "text/plain": [
              "<Figure size 432x288 with 1 Axes>"
            ]
          },
          "metadata": {
            "tags": []
          }
        }
      ]
    },
    {
      "cell_type": "markdown",
      "metadata": {
        "id": "4o1yquJOd5J5",
        "colab_type": "text"
      },
      "source": [
        "# Verificando e Visualizando Dados Populacionais dos Estados"
      ]
    },
    {
      "cell_type": "markdown",
      "metadata": {
        "id": "FcP11M0mvWW8",
        "colab_type": "text"
      },
      "source": [
        "Vamos verificar de forma ordenada quais são os estados que possuem maior população de acordo com o estimado pela nossa base de dados."
      ]
    },
    {
      "cell_type": "markdown",
      "metadata": {
        "id": "SYUGVvLkvm4v",
        "colab_type": "text"
      },
      "source": [
        "**Para isso, criamos um novo Data Frame a partir do DF anterior, ordenando os valores através do método sort_values (), passando como parâmetro a coluna em que deve ser aplicado e a forma com os dados devem ser ordenados, nesse caso de forma decrescente**"
      ]
    },
    {
      "cell_type": "code",
      "metadata": {
        "id": "Ib-BSUzwSonG",
        "colab_type": "code",
        "outputId": "1bf15c11-9b40-43f8-8b4d-cad74dbbef6a",
        "colab": {
          "base_uri": "https://localhost:8080/",
          "height": 858
        }
      },
      "source": [
        "dados_pop = dados.sort_values(by='estimated_population_2019',ascending=False)\n",
        "dados_pop = dados_pop[['state', 'estimated_population_2019']]\n",
        "dados_pop"
      ],
      "execution_count": 0,
      "outputs": [
        {
          "output_type": "execute_result",
          "data": {
            "text/html": [
              "<div>\n",
              "<style scoped>\n",
              "    .dataframe tbody tr th:only-of-type {\n",
              "        vertical-align: middle;\n",
              "    }\n",
              "\n",
              "    .dataframe tbody tr th {\n",
              "        vertical-align: top;\n",
              "    }\n",
              "\n",
              "    .dataframe thead th {\n",
              "        text-align: right;\n",
              "    }\n",
              "</style>\n",
              "<table border=\"1\" class=\"dataframe\">\n",
              "  <thead>\n",
              "    <tr style=\"text-align: right;\">\n",
              "      <th></th>\n",
              "      <th>state</th>\n",
              "      <th>estimated_population_2019</th>\n",
              "    </tr>\n",
              "  </thead>\n",
              "  <tbody>\n",
              "    <tr>\n",
              "      <th>2480</th>\n",
              "      <td>SP</td>\n",
              "      <td>45919049.0</td>\n",
              "    </tr>\n",
              "    <tr>\n",
              "      <th>821</th>\n",
              "      <td>MG</td>\n",
              "      <td>21168791.0</td>\n",
              "    </tr>\n",
              "    <tr>\n",
              "      <th>1592</th>\n",
              "      <td>RJ</td>\n",
              "      <td>17264943.0</td>\n",
              "    </tr>\n",
              "    <tr>\n",
              "      <th>2809</th>\n",
              "      <td>BA</td>\n",
              "      <td>14873064.0</td>\n",
              "    </tr>\n",
              "    <tr>\n",
              "      <th>1504</th>\n",
              "      <td>PR</td>\n",
              "      <td>11433957.0</td>\n",
              "    </tr>\n",
              "    <tr>\n",
              "      <th>1838</th>\n",
              "      <td>RS</td>\n",
              "      <td>11377239.0</td>\n",
              "    </tr>\n",
              "    <tr>\n",
              "      <th>1254</th>\n",
              "      <td>PE</td>\n",
              "      <td>9557071.0</td>\n",
              "    </tr>\n",
              "    <tr>\n",
              "      <th>318</th>\n",
              "      <td>CE</td>\n",
              "      <td>9132078.0</td>\n",
              "    </tr>\n",
              "    <tr>\n",
              "      <th>1001</th>\n",
              "      <td>PA</td>\n",
              "      <td>8602865.0</td>\n",
              "    </tr>\n",
              "    <tr>\n",
              "      <th>2005</th>\n",
              "      <td>SC</td>\n",
              "      <td>7164788.0</td>\n",
              "    </tr>\n",
              "    <tr>\n",
              "      <th>565</th>\n",
              "      <td>MA</td>\n",
              "      <td>7075181.0</td>\n",
              "    </tr>\n",
              "    <tr>\n",
              "      <th>401</th>\n",
              "      <td>GO</td>\n",
              "      <td>7018354.0</td>\n",
              "    </tr>\n",
              "    <tr>\n",
              "      <th>126</th>\n",
              "      <td>AM</td>\n",
              "      <td>4144597.0</td>\n",
              "    </tr>\n",
              "    <tr>\n",
              "      <th>3064</th>\n",
              "      <td>ES</td>\n",
              "      <td>4018650.0</td>\n",
              "    </tr>\n",
              "    <tr>\n",
              "      <th>1103</th>\n",
              "      <td>PB</td>\n",
              "      <td>4018127.0</td>\n",
              "    </tr>\n",
              "    <tr>\n",
              "      <th>7174</th>\n",
              "      <td>RN</td>\n",
              "      <td>3506853.0</td>\n",
              "    </tr>\n",
              "    <tr>\n",
              "      <th>867</th>\n",
              "      <td>MT</td>\n",
              "      <td>3484466.0</td>\n",
              "    </tr>\n",
              "    <tr>\n",
              "      <th>69</th>\n",
              "      <td>AL</td>\n",
              "      <td>3337357.0</td>\n",
              "    </tr>\n",
              "    <tr>\n",
              "      <th>1349</th>\n",
              "      <td>PI</td>\n",
              "      <td>3273227.0</td>\n",
              "    </tr>\n",
              "    <tr>\n",
              "      <th>321</th>\n",
              "      <td>DF</td>\n",
              "      <td>3015268.0</td>\n",
              "    </tr>\n",
              "    <tr>\n",
              "      <th>3583</th>\n",
              "      <td>MS</td>\n",
              "      <td>2778986.0</td>\n",
              "    </tr>\n",
              "    <tr>\n",
              "      <th>2063</th>\n",
              "      <td>SE</td>\n",
              "      <td>2298696.0</td>\n",
              "    </tr>\n",
              "    <tr>\n",
              "      <th>1626</th>\n",
              "      <td>RO</td>\n",
              "      <td>1777225.0</td>\n",
              "    </tr>\n",
              "    <tr>\n",
              "      <th>5263</th>\n",
              "      <td>TO</td>\n",
              "      <td>1572866.0</td>\n",
              "    </tr>\n",
              "    <tr>\n",
              "      <th>2499</th>\n",
              "      <td>AC</td>\n",
              "      <td>881935.0</td>\n",
              "    </tr>\n",
              "    <tr>\n",
              "      <th>144</th>\n",
              "      <td>AP</td>\n",
              "      <td>845731.0</td>\n",
              "    </tr>\n",
              "    <tr>\n",
              "      <th>1643</th>\n",
              "      <td>RR</td>\n",
              "      <td>605761.0</td>\n",
              "    </tr>\n",
              "  </tbody>\n",
              "</table>\n",
              "</div>"
            ],
            "text/plain": [
              "     state  estimated_population_2019\n",
              "2480    SP                 45919049.0\n",
              "821     MG                 21168791.0\n",
              "1592    RJ                 17264943.0\n",
              "2809    BA                 14873064.0\n",
              "1504    PR                 11433957.0\n",
              "1838    RS                 11377239.0\n",
              "1254    PE                  9557071.0\n",
              "318     CE                  9132078.0\n",
              "1001    PA                  8602865.0\n",
              "2005    SC                  7164788.0\n",
              "565     MA                  7075181.0\n",
              "401     GO                  7018354.0\n",
              "126     AM                  4144597.0\n",
              "3064    ES                  4018650.0\n",
              "1103    PB                  4018127.0\n",
              "7174    RN                  3506853.0\n",
              "867     MT                  3484466.0\n",
              "69      AL                  3337357.0\n",
              "1349    PI                  3273227.0\n",
              "321     DF                  3015268.0\n",
              "3583    MS                  2778986.0\n",
              "2063    SE                  2298696.0\n",
              "1626    RO                  1777225.0\n",
              "5263    TO                  1572866.0\n",
              "2499    AC                   881935.0\n",
              "144     AP                   845731.0\n",
              "1643    RR                   605761.0"
            ]
          },
          "metadata": {
            "tags": []
          },
          "execution_count": 66
        }
      ]
    },
    {
      "cell_type": "markdown",
      "metadata": {
        "id": "QYU95DyXwKKv",
        "colab_type": "text"
      },
      "source": [
        "Para tornar mais didático a apresentação, podemos visualizar os dados através de um gráfico de barras."
      ]
    },
    {
      "cell_type": "code",
      "metadata": {
        "id": "-4h2pKi53s_R",
        "colab_type": "code",
        "outputId": "4822434c-f63b-45ab-8d14-60bde8bb9ca5",
        "colab": {
          "base_uri": "https://localhost:8080/",
          "height": 304
        }
      },
      "source": [
        "plt.bar(dados_pop['state'], dados_pop['estimated_population_2019'])\n",
        "\n",
        "plt.title('Gráfico da População brasileira por estados em 2019')\n",
        "plt.xlabel('Estados do Brasil')\n",
        "plt.ylabel('População em dezena de milhão em 2019')\n",
        "plt.xticks(rotation=45)\n",
        "\n",
        "plt.show()"
      ],
      "execution_count": 0,
      "outputs": [
        {
          "output_type": "display_data",
          "data": {
            "image/png": "[encoded data removed]",
            "text/plain": [
              "<Figure size 432x288 with 1 Axes>"
            ]
          },
          "metadata": {
            "tags": []
          }
        }
      ]
    },
    {
      "cell_type": "markdown",
      "metadata": {
        "id": "3nK-k-uI36Rt",
        "colab_type": "text"
      },
      "source": [
        "**Nesse caso, a visualização básica é confusa e pouco representativa**"
      ]
    },
    {
      "cell_type": "markdown",
      "metadata": {
        "id": "vlcp-JVFwla3",
        "colab_type": "text"
      },
      "source": [
        "**Para melhorar esse aspecto, utilizaremos uma outra biblioteca de forma conjunta com a Matplotlib, a Seaborn**"
      ]
    },
    {
      "cell_type": "markdown",
      "metadata": {
        "id": "5c_Kq-e4wuhw",
        "colab_type": "text"
      },
      "source": [
        "**A biblioteca Seaborn permite entre outras coisas a configuração da paleta de cores, o número de cores a partir dos dados e o estilo para o gráfico**\n"
      ]
    },
    {
      "cell_type": "code",
      "metadata": {
        "id": "hUj-_9W1Vd_D",
        "colab_type": "code",
        "outputId": "f4858375-cb29-4372-fb8d-eafb37b5f2b0",
        "colab": {
          "base_uri": "https://localhost:8080/",
          "height": 604
        }
      },
      "source": [
        "sns.set_style('darkgrid')\n",
        "plt.figure(figsize=(24,12))\n",
        "\n",
        "sns.barplot(x=dados_pop.state, \n",
        "            y=dados_pop.estimated_population_2019,\n",
        "            palette=sns.color_palette('GnBu_d' ,n_colors=len(dados_pop.state)))\n",
        "\n",
        "plt.title('Gráfico da População brasileira por estados em 2019')\n",
        "plt.xlabel('Estados do Brasil')\n",
        "plt.ylabel('População em dezena de milhão em 2019')\n",
        "plt.xticks(rotation=45)\n",
        "\n",
        "plt.show()"
      ],
      "execution_count": 0,
      "outputs": [
        {
          "output_type": "display_data",
          "data": {
            "image/png": "[encoded data removed]",
            "text/plain": [
              "<Figure size 1728x864 with 1 Axes>"
            ]
          },
          "metadata": {
            "tags": []
          }
        }
      ]
    },
    {
      "cell_type": "markdown",
      "metadata": {
        "id": "CG4LL3-y1s9M",
        "colab_type": "text"
      },
      "source": [
        "# Comparando Dados da COVID-19. Absolutos x Proporcionais"
      ]
    },
    {
      "cell_type": "markdown",
      "metadata": {
        "id": "qxEFGlxTxAAZ",
        "colab_type": "text"
      },
      "source": [
        "Após verificar os dados populacionais, agora iremos trabalhar de forma mais direta com os dados relacionados com a COVID-19"
      ]
    },
    {
      "cell_type": "markdown",
      "metadata": {
        "id": "rO9szalBxMup",
        "colab_type": "text"
      },
      "source": [
        "**Criar um novo DF apenas com as colunas que contenham dados diretamente referentes a COVID-19,  a partir da desestruturação [ ] do DF anterior**"
      ]
    },
    {
      "cell_type": "code",
      "metadata": {
        "id": "lORSYlYdXd3N",
        "colab_type": "code",
        "outputId": "1a91ff7d-049c-4ab2-a79a-83e37659f9a5",
        "colab": {
          "base_uri": "https://localhost:8080/",
          "height": 348
        }
      },
      "source": [
        "dados_covid = dados[['state', 'confirmed', 'deaths', 'confirmed_per_100k_inhabitants']].reset_index()\n",
        "dados_covid = dados_covid.drop('index', axis=1)\n",
        "dados_covid.head(10)"
      ],
      "execution_count": 0,
      "outputs": [
        {
          "output_type": "execute_result",
          "data": {
            "text/html": [
              "<div>\n",
              "<style scoped>\n",
              "    .dataframe tbody tr th:only-of-type {\n",
              "        vertical-align: middle;\n",
              "    }\n",
              "\n",
              "    .dataframe tbody tr th {\n",
              "        vertical-align: top;\n",
              "    }\n",
              "\n",
              "    .dataframe thead th {\n",
              "        text-align: right;\n",
              "    }\n",
              "</style>\n",
              "<table border=\"1\" class=\"dataframe\">\n",
              "  <thead>\n",
              "    <tr style=\"text-align: right;\">\n",
              "      <th></th>\n",
              "      <th>state</th>\n",
              "      <th>confirmed</th>\n",
              "      <th>deaths</th>\n",
              "      <th>confirmed_per_100k_inhabitants</th>\n",
              "    </tr>\n",
              "  </thead>\n",
              "  <tbody>\n",
              "    <tr>\n",
              "      <th>0</th>\n",
              "      <td>AL</td>\n",
              "      <td>2258</td>\n",
              "      <td>126</td>\n",
              "      <td>67.65833</td>\n",
              "    </tr>\n",
              "    <tr>\n",
              "      <th>1</th>\n",
              "      <td>AM</td>\n",
              "      <td>12599</td>\n",
              "      <td>1004</td>\n",
              "      <td>303.98613</td>\n",
              "    </tr>\n",
              "    <tr>\n",
              "      <th>2</th>\n",
              "      <td>AP</td>\n",
              "      <td>2613</td>\n",
              "      <td>72</td>\n",
              "      <td>308.96349</td>\n",
              "    </tr>\n",
              "    <tr>\n",
              "      <th>3</th>\n",
              "      <td>CE</td>\n",
              "      <td>16692</td>\n",
              "      <td>1114</td>\n",
              "      <td>182.78425</td>\n",
              "    </tr>\n",
              "    <tr>\n",
              "      <th>4</th>\n",
              "      <td>DF</td>\n",
              "      <td>2682</td>\n",
              "      <td>42</td>\n",
              "      <td>88.94732</td>\n",
              "    </tr>\n",
              "    <tr>\n",
              "      <th>5</th>\n",
              "      <td>GO</td>\n",
              "      <td>1093</td>\n",
              "      <td>47</td>\n",
              "      <td>15.57345</td>\n",
              "    </tr>\n",
              "    <tr>\n",
              "      <th>6</th>\n",
              "      <td>MA</td>\n",
              "      <td>8144</td>\n",
              "      <td>399</td>\n",
              "      <td>115.10660</td>\n",
              "    </tr>\n",
              "    <tr>\n",
              "      <th>7</th>\n",
              "      <td>MG</td>\n",
              "      <td>3237</td>\n",
              "      <td>119</td>\n",
              "      <td>15.29138</td>\n",
              "    </tr>\n",
              "    <tr>\n",
              "      <th>8</th>\n",
              "      <td>MT</td>\n",
              "      <td>519</td>\n",
              "      <td>18</td>\n",
              "      <td>14.89468</td>\n",
              "    </tr>\n",
              "    <tr>\n",
              "      <th>9</th>\n",
              "      <td>PA</td>\n",
              "      <td>7348</td>\n",
              "      <td>672</td>\n",
              "      <td>85.41341</td>\n",
              "    </tr>\n",
              "  </tbody>\n",
              "</table>\n",
              "</div>"
            ],
            "text/plain": [
              "  state  confirmed  deaths  confirmed_per_100k_inhabitants\n",
              "0    AL       2258     126                        67.65833\n",
              "1    AM      12599    1004                       303.98613\n",
              "2    AP       2613      72                       308.96349\n",
              "3    CE      16692    1114                       182.78425\n",
              "4    DF       2682      42                        88.94732\n",
              "5    GO       1093      47                        15.57345\n",
              "6    MA       8144     399                       115.10660\n",
              "7    MG       3237     119                        15.29138\n",
              "8    MT        519      18                        14.89468\n",
              "9    PA       7348     672                        85.41341"
            ]
          },
          "metadata": {
            "tags": []
          },
          "execution_count": 69
        }
      ]
    },
    {
      "cell_type": "markdown",
      "metadata": {
        "id": "lsCi_CF-xcgH",
        "colab_type": "text"
      },
      "source": [
        "Nessa parte do estudo, vamos verificar de forma ordenada os estados com maior número de casos registrados de covid"
      ]
    },
    {
      "cell_type": "markdown",
      "metadata": {
        "id": "7R4eZO_nxpUG",
        "colab_type": "text"
      },
      "source": [
        "**Para isso, utilizaremos o método sort_values() como no processo anterior**"
      ]
    },
    {
      "cell_type": "code",
      "metadata": {
        "id": "NCbeU_tqX1HS",
        "colab_type": "code",
        "outputId": "0da09f87-5ff2-4132-99c6-e8004a7b6fc2",
        "colab": {
          "base_uri": "https://localhost:8080/",
          "height": 858
        }
      },
      "source": [
        "dados_confirmed = dados_covid.sort_values(by='confirmed', ascending=False)\n",
        "dados_confirmed = dados_confirmed[['state', 'confirmed']]\n",
        "dados_confirmed"
      ],
      "execution_count": 0,
      "outputs": [
        {
          "output_type": "execute_result",
          "data": {
            "text/html": [
              "<div>\n",
              "<style scoped>\n",
              "    .dataframe tbody tr th:only-of-type {\n",
              "        vertical-align: middle;\n",
              "    }\n",
              "\n",
              "    .dataframe tbody tr th {\n",
              "        vertical-align: top;\n",
              "    }\n",
              "\n",
              "    .dataframe thead th {\n",
              "        text-align: right;\n",
              "    }\n",
              "</style>\n",
              "<table border=\"1\" class=\"dataframe\">\n",
              "  <thead>\n",
              "    <tr style=\"text-align: right;\">\n",
              "      <th></th>\n",
              "      <th>state</th>\n",
              "      <th>confirmed</th>\n",
              "    </tr>\n",
              "  </thead>\n",
              "  <tbody>\n",
              "    <tr>\n",
              "      <th>20</th>\n",
              "      <td>SP</td>\n",
              "      <td>45444</td>\n",
              "    </tr>\n",
              "    <tr>\n",
              "      <th>14</th>\n",
              "      <td>RJ</td>\n",
              "      <td>17062</td>\n",
              "    </tr>\n",
              "    <tr>\n",
              "      <th>3</th>\n",
              "      <td>CE</td>\n",
              "      <td>16692</td>\n",
              "    </tr>\n",
              "    <tr>\n",
              "      <th>11</th>\n",
              "      <td>PE</td>\n",
              "      <td>13275</td>\n",
              "    </tr>\n",
              "    <tr>\n",
              "      <th>1</th>\n",
              "      <td>AM</td>\n",
              "      <td>12599</td>\n",
              "    </tr>\n",
              "    <tr>\n",
              "      <th>6</th>\n",
              "      <td>MA</td>\n",
              "      <td>8144</td>\n",
              "    </tr>\n",
              "    <tr>\n",
              "      <th>9</th>\n",
              "      <td>PA</td>\n",
              "      <td>7348</td>\n",
              "    </tr>\n",
              "    <tr>\n",
              "      <th>22</th>\n",
              "      <td>BA</td>\n",
              "      <td>5174</td>\n",
              "    </tr>\n",
              "    <tr>\n",
              "      <th>23</th>\n",
              "      <td>ES</td>\n",
              "      <td>4412</td>\n",
              "    </tr>\n",
              "    <tr>\n",
              "      <th>18</th>\n",
              "      <td>SC</td>\n",
              "      <td>3429</td>\n",
              "    </tr>\n",
              "    <tr>\n",
              "      <th>7</th>\n",
              "      <td>MG</td>\n",
              "      <td>3237</td>\n",
              "    </tr>\n",
              "    <tr>\n",
              "      <th>4</th>\n",
              "      <td>DF</td>\n",
              "      <td>2682</td>\n",
              "    </tr>\n",
              "    <tr>\n",
              "      <th>2</th>\n",
              "      <td>AP</td>\n",
              "      <td>2613</td>\n",
              "    </tr>\n",
              "    <tr>\n",
              "      <th>17</th>\n",
              "      <td>RS</td>\n",
              "      <td>2576</td>\n",
              "    </tr>\n",
              "    <tr>\n",
              "      <th>10</th>\n",
              "      <td>PB</td>\n",
              "      <td>2341</td>\n",
              "    </tr>\n",
              "    <tr>\n",
              "      <th>0</th>\n",
              "      <td>AL</td>\n",
              "      <td>2258</td>\n",
              "    </tr>\n",
              "    <tr>\n",
              "      <th>26</th>\n",
              "      <td>RN</td>\n",
              "      <td>1919</td>\n",
              "    </tr>\n",
              "    <tr>\n",
              "      <th>13</th>\n",
              "      <td>PR</td>\n",
              "      <td>1859</td>\n",
              "    </tr>\n",
              "    <tr>\n",
              "      <th>19</th>\n",
              "      <td>SE</td>\n",
              "      <td>1771</td>\n",
              "    </tr>\n",
              "    <tr>\n",
              "      <th>21</th>\n",
              "      <td>AC</td>\n",
              "      <td>1335</td>\n",
              "    </tr>\n",
              "    <tr>\n",
              "      <th>12</th>\n",
              "      <td>PI</td>\n",
              "      <td>1332</td>\n",
              "    </tr>\n",
              "    <tr>\n",
              "      <th>15</th>\n",
              "      <td>RO</td>\n",
              "      <td>1302</td>\n",
              "    </tr>\n",
              "    <tr>\n",
              "      <th>16</th>\n",
              "      <td>RR</td>\n",
              "      <td>1290</td>\n",
              "    </tr>\n",
              "    <tr>\n",
              "      <th>5</th>\n",
              "      <td>GO</td>\n",
              "      <td>1093</td>\n",
              "    </tr>\n",
              "    <tr>\n",
              "      <th>25</th>\n",
              "      <td>TO</td>\n",
              "      <td>688</td>\n",
              "    </tr>\n",
              "    <tr>\n",
              "      <th>8</th>\n",
              "      <td>MT</td>\n",
              "      <td>519</td>\n",
              "    </tr>\n",
              "    <tr>\n",
              "      <th>24</th>\n",
              "      <td>MS</td>\n",
              "      <td>346</td>\n",
              "    </tr>\n",
              "  </tbody>\n",
              "</table>\n",
              "</div>"
            ],
            "text/plain": [
              "   state  confirmed\n",
              "20    SP      45444\n",
              "14    RJ      17062\n",
              "3     CE      16692\n",
              "11    PE      13275\n",
              "1     AM      12599\n",
              "6     MA       8144\n",
              "9     PA       7348\n",
              "22    BA       5174\n",
              "23    ES       4412\n",
              "18    SC       3429\n",
              "7     MG       3237\n",
              "4     DF       2682\n",
              "2     AP       2613\n",
              "17    RS       2576\n",
              "10    PB       2341\n",
              "0     AL       2258\n",
              "26    RN       1919\n",
              "13    PR       1859\n",
              "19    SE       1771\n",
              "21    AC       1335\n",
              "12    PI       1332\n",
              "15    RO       1302\n",
              "16    RR       1290\n",
              "5     GO       1093\n",
              "25    TO        688\n",
              "8     MT        519\n",
              "24    MS        346"
            ]
          },
          "metadata": {
            "tags": []
          },
          "execution_count": 70
        }
      ]
    },
    {
      "cell_type": "markdown",
      "metadata": {
        "id": "oEqdnvbWxztL",
        "colab_type": "text"
      },
      "source": [
        "**Iremos também gerar o gráfico utilizando a biblioteca Seaborn**"
      ]
    },
    {
      "cell_type": "code",
      "metadata": {
        "id": "PxuVdWg9a-AG",
        "colab_type": "code",
        "outputId": "9984c2fd-17c4-4635-87dc-9ad76d6d8999",
        "colab": {
          "base_uri": "https://localhost:8080/",
          "height": 593
        }
      },
      "source": [
        "sns.set_style('darkgrid')\n",
        "plt.figure(figsize=(24,12))\n",
        "\n",
        "sns.barplot(x=dados_confirmed.state, \n",
        "            y=dados_confirmed.confirmed,\n",
        "            palette=sns.color_palette('GnBu_d' ,n_colors=len(dados_confirmed.state)))\n",
        "\n",
        "plt.title('Gráfico de Casos Confirmados por Estados no Brasil')\n",
        "plt.xlabel('Estados do Brasil')\n",
        "plt.ylabel('Casos Confirmados')\n",
        "plt.xticks(rotation=45)\n",
        "\n",
        "plt.show()"
      ],
      "execution_count": 0,
      "outputs": [
        {
          "output_type": "display_data",
          "data": {
            "image/png": "[encoded data removed]",
            "text/plain": [
              "<Figure size 1728x864 with 1 Axes>"
            ]
          },
          "metadata": {
            "tags": []
          }
        }
      ]
    },
    {
      "cell_type": "markdown",
      "metadata": {
        "id": "XUvDAv17x6jq",
        "colab_type": "text"
      },
      "source": [
        "Essa visualização acima mostra os estados que possuem mais casos acumulados registrados, no entanto, vimos que os estados do Brasil possuem discrepâncias entre suas respectivas populações, por isso não seria mais justo uma comparação proporcional ?"
      ]
    },
    {
      "cell_type": "markdown",
      "metadata": {
        "id": "ycMXVHLiyOlg",
        "colab_type": "text"
      },
      "source": [
        "**Para realizar essa comparação, iremos agora ordenar os estados de acordo com o número de casos confirmados por 100 mil habitantes**"
      ]
    },
    {
      "cell_type": "code",
      "metadata": {
        "id": "4xYf8S8DayQ5",
        "colab_type": "code",
        "outputId": "bd2fb1a6-2c9b-40f1-94f5-f65235031366",
        "colab": {
          "base_uri": "https://localhost:8080/",
          "height": 858
        }
      },
      "source": [
        "dados_habitants = dados_covid.sort_values(by='confirmed_per_100k_inhabitants', ascending=False)\n",
        "dados_habitants = dados_habitants[['state', 'confirmed_per_100k_inhabitants']]\n",
        "dados_habitants"
      ],
      "execution_count": 0,
      "outputs": [
        {
          "output_type": "execute_result",
          "data": {
            "text/html": [
              "<div>\n",
              "<style scoped>\n",
              "    .dataframe tbody tr th:only-of-type {\n",
              "        vertical-align: middle;\n",
              "    }\n",
              "\n",
              "    .dataframe tbody tr th {\n",
              "        vertical-align: top;\n",
              "    }\n",
              "\n",
              "    .dataframe thead th {\n",
              "        text-align: right;\n",
              "    }\n",
              "</style>\n",
              "<table border=\"1\" class=\"dataframe\">\n",
              "  <thead>\n",
              "    <tr style=\"text-align: right;\">\n",
              "      <th></th>\n",
              "      <th>state</th>\n",
              "      <th>confirmed_per_100k_inhabitants</th>\n",
              "    </tr>\n",
              "  </thead>\n",
              "  <tbody>\n",
              "    <tr>\n",
              "      <th>2</th>\n",
              "      <td>AP</td>\n",
              "      <td>308.96349</td>\n",
              "    </tr>\n",
              "    <tr>\n",
              "      <th>1</th>\n",
              "      <td>AM</td>\n",
              "      <td>303.98613</td>\n",
              "    </tr>\n",
              "    <tr>\n",
              "      <th>16</th>\n",
              "      <td>RR</td>\n",
              "      <td>212.95527</td>\n",
              "    </tr>\n",
              "    <tr>\n",
              "      <th>3</th>\n",
              "      <td>CE</td>\n",
              "      <td>182.78425</td>\n",
              "    </tr>\n",
              "    <tr>\n",
              "      <th>21</th>\n",
              "      <td>AC</td>\n",
              "      <td>151.37170</td>\n",
              "    </tr>\n",
              "    <tr>\n",
              "      <th>11</th>\n",
              "      <td>PE</td>\n",
              "      <td>138.90239</td>\n",
              "    </tr>\n",
              "    <tr>\n",
              "      <th>6</th>\n",
              "      <td>MA</td>\n",
              "      <td>115.10660</td>\n",
              "    </tr>\n",
              "    <tr>\n",
              "      <th>23</th>\n",
              "      <td>ES</td>\n",
              "      <td>109.78811</td>\n",
              "    </tr>\n",
              "    <tr>\n",
              "      <th>20</th>\n",
              "      <td>SP</td>\n",
              "      <td>98.96546</td>\n",
              "    </tr>\n",
              "    <tr>\n",
              "      <th>14</th>\n",
              "      <td>RJ</td>\n",
              "      <td>98.82454</td>\n",
              "    </tr>\n",
              "    <tr>\n",
              "      <th>4</th>\n",
              "      <td>DF</td>\n",
              "      <td>88.94732</td>\n",
              "    </tr>\n",
              "    <tr>\n",
              "      <th>9</th>\n",
              "      <td>PA</td>\n",
              "      <td>85.41341</td>\n",
              "    </tr>\n",
              "    <tr>\n",
              "      <th>19</th>\n",
              "      <td>SE</td>\n",
              "      <td>77.04368</td>\n",
              "    </tr>\n",
              "    <tr>\n",
              "      <th>15</th>\n",
              "      <td>RO</td>\n",
              "      <td>73.26028</td>\n",
              "    </tr>\n",
              "    <tr>\n",
              "      <th>0</th>\n",
              "      <td>AL</td>\n",
              "      <td>67.65833</td>\n",
              "    </tr>\n",
              "    <tr>\n",
              "      <th>10</th>\n",
              "      <td>PB</td>\n",
              "      <td>58.26098</td>\n",
              "    </tr>\n",
              "    <tr>\n",
              "      <th>26</th>\n",
              "      <td>RN</td>\n",
              "      <td>54.72143</td>\n",
              "    </tr>\n",
              "    <tr>\n",
              "      <th>18</th>\n",
              "      <td>SC</td>\n",
              "      <td>47.85906</td>\n",
              "    </tr>\n",
              "    <tr>\n",
              "      <th>25</th>\n",
              "      <td>TO</td>\n",
              "      <td>43.74181</td>\n",
              "    </tr>\n",
              "    <tr>\n",
              "      <th>12</th>\n",
              "      <td>PI</td>\n",
              "      <td>40.69379</td>\n",
              "    </tr>\n",
              "    <tr>\n",
              "      <th>22</th>\n",
              "      <td>BA</td>\n",
              "      <td>34.78772</td>\n",
              "    </tr>\n",
              "    <tr>\n",
              "      <th>17</th>\n",
              "      <td>RS</td>\n",
              "      <td>22.64170</td>\n",
              "    </tr>\n",
              "    <tr>\n",
              "      <th>13</th>\n",
              "      <td>PR</td>\n",
              "      <td>16.25859</td>\n",
              "    </tr>\n",
              "    <tr>\n",
              "      <th>5</th>\n",
              "      <td>GO</td>\n",
              "      <td>15.57345</td>\n",
              "    </tr>\n",
              "    <tr>\n",
              "      <th>7</th>\n",
              "      <td>MG</td>\n",
              "      <td>15.29138</td>\n",
              "    </tr>\n",
              "    <tr>\n",
              "      <th>8</th>\n",
              "      <td>MT</td>\n",
              "      <td>14.89468</td>\n",
              "    </tr>\n",
              "    <tr>\n",
              "      <th>24</th>\n",
              "      <td>MS</td>\n",
              "      <td>12.45058</td>\n",
              "    </tr>\n",
              "  </tbody>\n",
              "</table>\n",
              "</div>"
            ],
            "text/plain": [
              "   state  confirmed_per_100k_inhabitants\n",
              "2     AP                       308.96349\n",
              "1     AM                       303.98613\n",
              "16    RR                       212.95527\n",
              "3     CE                       182.78425\n",
              "21    AC                       151.37170\n",
              "11    PE                       138.90239\n",
              "6     MA                       115.10660\n",
              "23    ES                       109.78811\n",
              "20    SP                        98.96546\n",
              "14    RJ                        98.82454\n",
              "4     DF                        88.94732\n",
              "9     PA                        85.41341\n",
              "19    SE                        77.04368\n",
              "15    RO                        73.26028\n",
              "0     AL                        67.65833\n",
              "10    PB                        58.26098\n",
              "26    RN                        54.72143\n",
              "18    SC                        47.85906\n",
              "25    TO                        43.74181\n",
              "12    PI                        40.69379\n",
              "22    BA                        34.78772\n",
              "17    RS                        22.64170\n",
              "13    PR                        16.25859\n",
              "5     GO                        15.57345\n",
              "7     MG                        15.29138\n",
              "8     MT                        14.89468\n",
              "24    MS                        12.45058"
            ]
          },
          "metadata": {
            "tags": []
          },
          "execution_count": 72
        }
      ]
    },
    {
      "cell_type": "markdown",
      "metadata": {
        "id": "sDDMzM0kyZfE",
        "colab_type": "text"
      },
      "source": [
        "Há mudanças significativas, não é ?"
      ]
    },
    {
      "cell_type": "markdown",
      "metadata": {
        "id": "M-_fxusBydMR",
        "colab_type": "text"
      },
      "source": [
        "**Para melhor visualizar, podemos novamente gerar o gráfico de barras, baseando-se no modelo anterior**"
      ]
    },
    {
      "cell_type": "code",
      "metadata": {
        "id": "7YxpXUEka8-y",
        "colab_type": "code",
        "outputId": "01e35c94-f39b-49be-bca7-31ecc0467c5f",
        "colab": {
          "base_uri": "https://localhost:8080/",
          "height": 597
        }
      },
      "source": [
        "sns.set_style('darkgrid')\n",
        "plt.figure(figsize=(24,12))\n",
        "\n",
        "sns.barplot(x=dados_habitants.state, \n",
        "            y=dados_habitants.confirmed_per_100k_inhabitants,\n",
        "            palette=sns.color_palette('GnBu_d' ,n_colors=len(dados_habitants.state)))\n",
        "\n",
        "plt.title('Gráfico de Casos Confirmados por 100k de Habitantes nos Estados do Brasil')\n",
        "plt.xlabel('Estados do Brasil')\n",
        "plt.ylabel('Casos Confirmados por 100k de Habitantes')\n",
        "plt.xticks(rotation=45)\n",
        "\n",
        "plt.show()"
      ],
      "execution_count": 0,
      "outputs": [
        {
          "output_type": "display_data",
          "data": {
            "image/png": "[encoded data removed]",
            "text/plain": [
              "<Figure size 1728x864 with 1 Axes>"
            ]
          },
          "metadata": {
            "tags": []
          }
        }
      ]
    },
    {
      "cell_type": "markdown",
      "metadata": {
        "id": "5hGhcTTW1fnt",
        "colab_type": "text"
      },
      "source": [
        "# Parte Complementar"
      ]
    },
    {
      "cell_type": "markdown",
      "metadata": {
        "id": "jvGdOnuzy2dD",
        "colab_type": "text"
      },
      "source": [
        "**De forma complementar, podemos repetir o processo e verificar quais são os estados com registro de mortes, gerando seu respectivo gráfico de barras para o Data Frame.**"
      ]
    },
    {
      "cell_type": "code",
      "metadata": {
        "id": "HWWvMBPRoQ6A",
        "colab_type": "code",
        "outputId": "58e9402b-ac34-4915-97d1-1c0495ac26c0",
        "colab": {
          "base_uri": "https://localhost:8080/",
          "height": 858
        }
      },
      "source": [
        "dados_deaths = dados_covid.sort_values(by='deaths', ascending=False)\n",
        "dados_deaths = dados_deaths[['state', 'deaths']]\n",
        "dados_deaths"
      ],
      "execution_count": 0,
      "outputs": [
        {
          "output_type": "execute_result",
          "data": {
            "text/html": [
              "<div>\n",
              "<style scoped>\n",
              "    .dataframe tbody tr th:only-of-type {\n",
              "        vertical-align: middle;\n",
              "    }\n",
              "\n",
              "    .dataframe tbody tr th {\n",
              "        vertical-align: top;\n",
              "    }\n",
              "\n",
              "    .dataframe thead th {\n",
              "        text-align: right;\n",
              "    }\n",
              "</style>\n",
              "<table border=\"1\" class=\"dataframe\">\n",
              "  <thead>\n",
              "    <tr style=\"text-align: right;\">\n",
              "      <th></th>\n",
              "      <th>state</th>\n",
              "      <th>deaths</th>\n",
              "    </tr>\n",
              "  </thead>\n",
              "  <tbody>\n",
              "    <tr>\n",
              "      <th>20</th>\n",
              "      <td>SP</td>\n",
              "      <td>3709</td>\n",
              "    </tr>\n",
              "    <tr>\n",
              "      <th>14</th>\n",
              "      <td>RJ</td>\n",
              "      <td>1714</td>\n",
              "    </tr>\n",
              "    <tr>\n",
              "      <th>3</th>\n",
              "      <td>CE</td>\n",
              "      <td>1114</td>\n",
              "    </tr>\n",
              "    <tr>\n",
              "      <th>11</th>\n",
              "      <td>PE</td>\n",
              "      <td>1047</td>\n",
              "    </tr>\n",
              "    <tr>\n",
              "      <th>1</th>\n",
              "      <td>AM</td>\n",
              "      <td>1004</td>\n",
              "    </tr>\n",
              "    <tr>\n",
              "      <th>9</th>\n",
              "      <td>PA</td>\n",
              "      <td>672</td>\n",
              "    </tr>\n",
              "    <tr>\n",
              "      <th>6</th>\n",
              "      <td>MA</td>\n",
              "      <td>399</td>\n",
              "    </tr>\n",
              "    <tr>\n",
              "      <th>22</th>\n",
              "      <td>BA</td>\n",
              "      <td>196</td>\n",
              "    </tr>\n",
              "    <tr>\n",
              "      <th>23</th>\n",
              "      <td>ES</td>\n",
              "      <td>172</td>\n",
              "    </tr>\n",
              "    <tr>\n",
              "      <th>10</th>\n",
              "      <td>PB</td>\n",
              "      <td>135</td>\n",
              "    </tr>\n",
              "    <tr>\n",
              "      <th>0</th>\n",
              "      <td>AL</td>\n",
              "      <td>126</td>\n",
              "    </tr>\n",
              "    <tr>\n",
              "      <th>7</th>\n",
              "      <td>MG</td>\n",
              "      <td>119</td>\n",
              "    </tr>\n",
              "    <tr>\n",
              "      <th>13</th>\n",
              "      <td>PR</td>\n",
              "      <td>112</td>\n",
              "    </tr>\n",
              "    <tr>\n",
              "      <th>17</th>\n",
              "      <td>RS</td>\n",
              "      <td>100</td>\n",
              "    </tr>\n",
              "    <tr>\n",
              "      <th>26</th>\n",
              "      <td>RN</td>\n",
              "      <td>87</td>\n",
              "    </tr>\n",
              "    <tr>\n",
              "      <th>2</th>\n",
              "      <td>AP</td>\n",
              "      <td>72</td>\n",
              "    </tr>\n",
              "    <tr>\n",
              "      <th>18</th>\n",
              "      <td>SC</td>\n",
              "      <td>65</td>\n",
              "    </tr>\n",
              "    <tr>\n",
              "      <th>5</th>\n",
              "      <td>GO</td>\n",
              "      <td>47</td>\n",
              "    </tr>\n",
              "    <tr>\n",
              "      <th>12</th>\n",
              "      <td>PI</td>\n",
              "      <td>45</td>\n",
              "    </tr>\n",
              "    <tr>\n",
              "      <th>15</th>\n",
              "      <td>RO</td>\n",
              "      <td>43</td>\n",
              "    </tr>\n",
              "    <tr>\n",
              "      <th>4</th>\n",
              "      <td>DF</td>\n",
              "      <td>42</td>\n",
              "    </tr>\n",
              "    <tr>\n",
              "      <th>21</th>\n",
              "      <td>AC</td>\n",
              "      <td>40</td>\n",
              "    </tr>\n",
              "    <tr>\n",
              "      <th>19</th>\n",
              "      <td>SE</td>\n",
              "      <td>34</td>\n",
              "    </tr>\n",
              "    <tr>\n",
              "      <th>16</th>\n",
              "      <td>RR</td>\n",
              "      <td>21</td>\n",
              "    </tr>\n",
              "    <tr>\n",
              "      <th>8</th>\n",
              "      <td>MT</td>\n",
              "      <td>18</td>\n",
              "    </tr>\n",
              "    <tr>\n",
              "      <th>24</th>\n",
              "      <td>MS</td>\n",
              "      <td>11</td>\n",
              "    </tr>\n",
              "    <tr>\n",
              "      <th>25</th>\n",
              "      <td>TO</td>\n",
              "      <td>11</td>\n",
              "    </tr>\n",
              "  </tbody>\n",
              "</table>\n",
              "</div>"
            ],
            "text/plain": [
              "   state  deaths\n",
              "20    SP    3709\n",
              "14    RJ    1714\n",
              "3     CE    1114\n",
              "11    PE    1047\n",
              "1     AM    1004\n",
              "9     PA     672\n",
              "6     MA     399\n",
              "22    BA     196\n",
              "23    ES     172\n",
              "10    PB     135\n",
              "0     AL     126\n",
              "7     MG     119\n",
              "13    PR     112\n",
              "17    RS     100\n",
              "26    RN      87\n",
              "2     AP      72\n",
              "18    SC      65\n",
              "5     GO      47\n",
              "12    PI      45\n",
              "15    RO      43\n",
              "4     DF      42\n",
              "21    AC      40\n",
              "19    SE      34\n",
              "16    RR      21\n",
              "8     MT      18\n",
              "24    MS      11\n",
              "25    TO      11"
            ]
          },
          "metadata": {
            "tags": []
          },
          "execution_count": 74
        }
      ]
    },
    {
      "cell_type": "code",
      "metadata": {
        "id": "vmRtXC9wocvy",
        "colab_type": "code",
        "outputId": "32ff90e7-4ab5-4df8-e9db-b063efa7a4fa",
        "colab": {
          "base_uri": "https://localhost:8080/",
          "height": 595
        }
      },
      "source": [
        "sns.set_style('darkgrid')\n",
        "plt.figure(figsize=(24,12))\n",
        "\n",
        "sns.barplot(x=dados_deaths.state, \n",
        "            y=dados_deaths.deaths,\n",
        "            palette=sns.color_palette('GnBu_d' ,n_colors=len(dados_deaths.state)))\n",
        "\n",
        "plt.title('Gráfico do Número de Mortes por Estados no Brasil')\n",
        "plt.xlabel('Estados do Brasil')\n",
        "plt.ylabel('Número de Mortes')\n",
        "plt.xticks(rotation=45)\n",
        "\n",
        "plt.show()"
      ],
      "execution_count": 0,
      "outputs": [
        {
          "output_type": "display_data",
          "data": {
            "image/png": "[encoded data removed]",
            "text/plain": [
              "<Figure size 1728x864 with 1 Axes>"
            ]
          },
          "metadata": {
            "tags": []
          }
        }
      ]
    }
  ]
}