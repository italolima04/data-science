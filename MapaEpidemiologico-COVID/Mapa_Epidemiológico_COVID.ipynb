{
  "nbformat": 4,
  "nbformat_minor": 0,
  "metadata": {
    "colab": {
      "name": "Mapa_Epidemiológico_COVID.ipynb",
      "provenance": [],
      "authorship_tag": "ABX9TyMjtZIwJAwSg6A7dj/Umg0n",
      "include_colab_link": true
    },
    "kernelspec": {
      "name": "python3",
      "display_name": "Python 3"
    }
  },
  "cells": [
    {
      "cell_type": "markdown",
      "metadata": {
        "id": "view-in-github",
        "colab_type": "text"
      },
      "source": [
        "<a href=\"https://colab.research.google.com/github/italolima04/data-science/blob/master/MapaEpidemiologico-COVID/Mapa_Epidemiol%C3%B3gico_COVID.ipynb\" target=\"_parent\"><img src=\"https://colab.research.google.com/assets/colab-badge.svg\" alt=\"Open In Colab\"/></a>"
      ]
    },
    {
      "cell_type": "markdown",
      "metadata": {
        "id": "FJvJj1IGzntW",
        "colab_type": "text"
      },
      "source": [
        "# Importando Bibliotecas, dados e Pluguins"
      ]
    },
    {
      "cell_type": "code",
      "metadata": {
        "id": "nyUjdXZuCFqy",
        "colab_type": "code",
        "outputId": "bc8afa73-442d-4b0d-8ca2-1b2d30af422a",
        "colab": {
          "base_uri": "https://localhost:8080/",
          "height": 0
        }
      },
      "source": [
        "#Baixando a biblioteca folium\n",
        "pip install folium"
      ],
      "execution_count": 290,
      "outputs": [
        {
          "output_type": "stream",
          "text": [
            "Requirement already satisfied: folium in /usr/local/lib/python3.6/dist-packages (0.8.3)\n",
            "Requirement already satisfied: six in /usr/local/lib/python3.6/dist-packages (from folium) (1.12.0)\n",
            "Requirement already satisfied: jinja2 in /usr/local/lib/python3.6/dist-packages (from folium) (2.11.2)\n",
            "Requirement already satisfied: numpy in /usr/local/lib/python3.6/dist-packages (from folium) (1.18.3)\n",
            "Requirement already satisfied: requests in /usr/local/lib/python3.6/dist-packages (from folium) (2.23.0)\n",
            "Requirement already satisfied: branca>=0.3.0 in /usr/local/lib/python3.6/dist-packages (from folium) (0.4.0)\n",
            "Requirement already satisfied: MarkupSafe>=0.23 in /usr/local/lib/python3.6/dist-packages (from jinja2->folium) (1.1.1)\n",
            "Requirement already satisfied: certifi>=2017.4.17 in /usr/local/lib/python3.6/dist-packages (from requests->folium) (2020.4.5.1)\n",
            "Requirement already satisfied: chardet<4,>=3.0.2 in /usr/local/lib/python3.6/dist-packages (from requests->folium) (3.0.4)\n",
            "Requirement already satisfied: urllib3!=1.25.0,!=1.25.1,<1.26,>=1.21.1 in /usr/local/lib/python3.6/dist-packages (from requests->folium) (1.24.3)\n",
            "Requirement already satisfied: idna<3,>=2.5 in /usr/local/lib/python3.6/dist-packages (from requests->folium) (2.9)\n"
          ],
          "name": "stdout"
        }
      ]
    },
    {
      "cell_type": "code",
      "metadata": {
        "id": "MNDfXobHCRH7",
        "colab_type": "code",
        "colab": {}
      },
      "source": [
        "#Importando as bibliotecas e pluguins que serão utilizados.\n",
        "import pandas as pd\n",
        "import numpy as np\n",
        "\n",
        "import folium\n",
        "from folium import plugins "
      ],
      "execution_count": 0,
      "outputs": []
    },
    {
      "cell_type": "markdown",
      "metadata": {
        "id": "SoVW5NnRz2qO",
        "colab_type": "text"
      },
      "source": [
        "# Criando e Exibindo Mapa"
      ]
    },
    {
      "cell_type": "code",
      "metadata": {
        "id": "0DTnrzU4CZRW",
        "colab_type": "code",
        "colab": {}
      },
      "source": [
        "#Criando uma instância do folium.Map() que será um map.\n",
        "#Esse recebe alguns parâmetros, como largura, altura, coordenadas para o mapa e um nível de zoom inicial na exibição.\n",
        "mapa = folium.Map(\n",
        "    width='100%', height='100%',\n",
        "    location=[-15.77972, -47.92972],\n",
        "    zoom_start=4\n",
        ")"
      ],
      "execution_count": 0,
      "outputs": []
    },
    {
      "cell_type": "code",
      "metadata": {
        "id": "QNCSO05QERWo",
        "colab_type": "code",
        "outputId": "eefceb0a-44ea-45ea-c4cb-a676c91bf544",
        "colab": {
          "base_uri": "https://localhost:8080/",
          "height": 504
        }
      },
      "source": [
        "#Exibir o mapa.\n",
        "mapa"
      ],
      "execution_count": 293,
      "outputs": [
        {
          "output_type": "execute_result",
          "data": {
            "text/html": [
              "<div style=\"width:100%;\"><div style=\"position:relative;width:100%;height:0;padding-bottom:60%;\"><iframe src=\"about:blank\" style=\"position:absolute;width:100%;height:100%;left:0;top:0;border:none !important;\" data-html=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 onload=\"this.contentDocument.open();this.contentDocument.write(atob(this.getAttribute('data-html')));this.contentDocument.close();\" allowfullscreen webkitallowfullscreen mozallowfullscreen></iframe></div></div>"
            ],
            "text/plain": [
              "<folium.folium.Map at 0x7f9bea23dcc0>"
            ]
          },
          "metadata": {
            "tags": []
          },
          "execution_count": 293
        }
      ]
    },
    {
      "cell_type": "code",
      "metadata": {
        "id": "PVaxtIq-EgCe",
        "colab_type": "code",
        "colab": {}
      },
      "source": [
        "#Utilizando o método save p/ salvar o arquivo no formato HTML, possibilitando a visualização em uma página web.\n",
        "mapa.save('mapa.html')"
      ],
      "execution_count": 0,
      "outputs": []
    },
    {
      "cell_type": "markdown",
      "metadata": {
        "id": "_3VXnr-Vz9AZ",
        "colab_type": "text"
      },
      "source": [
        "# Lendo e Visualizando Base de Dados"
      ]
    },
    {
      "cell_type": "code",
      "metadata": {
        "id": "Ejxt4GWuEgRM",
        "colab_type": "code",
        "outputId": "2b6de045-9f01-4993-c5db-1049083fad80",
        "colab": {
          "base_uri": "https://localhost:8080/",
          "height": 0
        }
      },
      "source": [
        "#Ler os dados que estão em formato CSV. Base de dados Brasil.io\n",
        "df = pd.read_csv('https://brasil.io/dataset/covid19/caso?format=csv')\n",
        "df"
      ],
      "execution_count": 295,
      "outputs": [
        {
          "output_type": "execute_result",
          "data": {
            "text/html": [
              "<div>\n",
              "<style scoped>\n",
              "    .dataframe tbody tr th:only-of-type {\n",
              "        vertical-align: middle;\n",
              "    }\n",
              "\n",
              "    .dataframe tbody tr th {\n",
              "        vertical-align: top;\n",
              "    }\n",
              "\n",
              "    .dataframe thead th {\n",
              "        text-align: right;\n",
              "    }\n",
              "</style>\n",
              "<table border=\"1\" class=\"dataframe\">\n",
              "  <thead>\n",
              "    <tr style=\"text-align: right;\">\n",
              "      <th></th>\n",
              "      <th>date</th>\n",
              "      <th>state</th>\n",
              "      <th>city</th>\n",
              "      <th>place_type</th>\n",
              "      <th>confirmed</th>\n",
              "      <th>deaths</th>\n",
              "      <th>is_last</th>\n",
              "      <th>estimated_population_2019</th>\n",
              "      <th>city_ibge_code</th>\n",
              "      <th>confirmed_per_100k_inhabitants</th>\n",
              "      <th>death_rate</th>\n",
              "    </tr>\n",
              "  </thead>\n",
              "  <tbody>\n",
              "    <tr>\n",
              "      <th>0</th>\n",
              "      <td>2020-05-04</td>\n",
              "      <td>AC</td>\n",
              "      <td>Acrelândia</td>\n",
              "      <td>city</td>\n",
              "      <td>15</td>\n",
              "      <td>1</td>\n",
              "      <td>True</td>\n",
              "      <td>15256.0</td>\n",
              "      <td>1200013.0</td>\n",
              "      <td>98.32197</td>\n",
              "      <td>0.0667</td>\n",
              "    </tr>\n",
              "    <tr>\n",
              "      <th>1</th>\n",
              "      <td>2020-05-04</td>\n",
              "      <td>AC</td>\n",
              "      <td>Assis Brasil</td>\n",
              "      <td>city</td>\n",
              "      <td>1</td>\n",
              "      <td>0</td>\n",
              "      <td>True</td>\n",
              "      <td>7417.0</td>\n",
              "      <td>1200054.0</td>\n",
              "      <td>13.48254</td>\n",
              "      <td>0.0000</td>\n",
              "    </tr>\n",
              "    <tr>\n",
              "      <th>2</th>\n",
              "      <td>2020-05-04</td>\n",
              "      <td>AC</td>\n",
              "      <td>Bujari</td>\n",
              "      <td>city</td>\n",
              "      <td>2</td>\n",
              "      <td>0</td>\n",
              "      <td>True</td>\n",
              "      <td>10266.0</td>\n",
              "      <td>1200138.0</td>\n",
              "      <td>19.48178</td>\n",
              "      <td>0.0000</td>\n",
              "    </tr>\n",
              "    <tr>\n",
              "      <th>3</th>\n",
              "      <td>2020-05-04</td>\n",
              "      <td>AC</td>\n",
              "      <td>Cruzeiro do Sul</td>\n",
              "      <td>city</td>\n",
              "      <td>11</td>\n",
              "      <td>0</td>\n",
              "      <td>True</td>\n",
              "      <td>88376.0</td>\n",
              "      <td>1200203.0</td>\n",
              "      <td>12.44682</td>\n",
              "      <td>0.0000</td>\n",
              "    </tr>\n",
              "    <tr>\n",
              "      <th>4</th>\n",
              "      <td>2020-05-04</td>\n",
              "      <td>AC</td>\n",
              "      <td>Feijó</td>\n",
              "      <td>city</td>\n",
              "      <td>1</td>\n",
              "      <td>0</td>\n",
              "      <td>True</td>\n",
              "      <td>34780.0</td>\n",
              "      <td>1200302.0</td>\n",
              "      <td>2.87522</td>\n",
              "      <td>0.0000</td>\n",
              "    </tr>\n",
              "    <tr>\n",
              "      <th>...</th>\n",
              "      <td>...</td>\n",
              "      <td>...</td>\n",
              "      <td>...</td>\n",
              "      <td>...</td>\n",
              "      <td>...</td>\n",
              "      <td>...</td>\n",
              "      <td>...</td>\n",
              "      <td>...</td>\n",
              "      <td>...</td>\n",
              "      <td>...</td>\n",
              "      <td>...</td>\n",
              "    </tr>\n",
              "    <tr>\n",
              "      <th>50797</th>\n",
              "      <td>2020-02-27</td>\n",
              "      <td>SP</td>\n",
              "      <td>NaN</td>\n",
              "      <td>state</td>\n",
              "      <td>1</td>\n",
              "      <td>0</td>\n",
              "      <td>False</td>\n",
              "      <td>45919049.0</td>\n",
              "      <td>35.0</td>\n",
              "      <td>0.00218</td>\n",
              "      <td>0.0000</td>\n",
              "    </tr>\n",
              "    <tr>\n",
              "      <th>50798</th>\n",
              "      <td>2020-02-26</td>\n",
              "      <td>SP</td>\n",
              "      <td>São Paulo</td>\n",
              "      <td>city</td>\n",
              "      <td>1</td>\n",
              "      <td>0</td>\n",
              "      <td>False</td>\n",
              "      <td>12252023.0</td>\n",
              "      <td>3550308.0</td>\n",
              "      <td>0.00816</td>\n",
              "      <td>0.0000</td>\n",
              "    </tr>\n",
              "    <tr>\n",
              "      <th>50799</th>\n",
              "      <td>2020-02-26</td>\n",
              "      <td>SP</td>\n",
              "      <td>NaN</td>\n",
              "      <td>state</td>\n",
              "      <td>1</td>\n",
              "      <td>0</td>\n",
              "      <td>False</td>\n",
              "      <td>45919049.0</td>\n",
              "      <td>35.0</td>\n",
              "      <td>0.00218</td>\n",
              "      <td>0.0000</td>\n",
              "    </tr>\n",
              "    <tr>\n",
              "      <th>50800</th>\n",
              "      <td>2020-02-25</td>\n",
              "      <td>SP</td>\n",
              "      <td>São Paulo</td>\n",
              "      <td>city</td>\n",
              "      <td>1</td>\n",
              "      <td>0</td>\n",
              "      <td>False</td>\n",
              "      <td>12252023.0</td>\n",
              "      <td>3550308.0</td>\n",
              "      <td>0.00816</td>\n",
              "      <td>0.0000</td>\n",
              "    </tr>\n",
              "    <tr>\n",
              "      <th>50801</th>\n",
              "      <td>2020-02-25</td>\n",
              "      <td>SP</td>\n",
              "      <td>NaN</td>\n",
              "      <td>state</td>\n",
              "      <td>1</td>\n",
              "      <td>0</td>\n",
              "      <td>False</td>\n",
              "      <td>45919049.0</td>\n",
              "      <td>35.0</td>\n",
              "      <td>0.00218</td>\n",
              "      <td>0.0000</td>\n",
              "    </tr>\n",
              "  </tbody>\n",
              "</table>\n",
              "<p>50802 rows × 11 columns</p>\n",
              "</div>"
            ],
            "text/plain": [
              "             date state  ... confirmed_per_100k_inhabitants death_rate\n",
              "0      2020-05-04    AC  ...                       98.32197     0.0667\n",
              "1      2020-05-04    AC  ...                       13.48254     0.0000\n",
              "2      2020-05-04    AC  ...                       19.48178     0.0000\n",
              "3      2020-05-04    AC  ...                       12.44682     0.0000\n",
              "4      2020-05-04    AC  ...                        2.87522     0.0000\n",
              "...           ...   ...  ...                            ...        ...\n",
              "50797  2020-02-27    SP  ...                        0.00218     0.0000\n",
              "50798  2020-02-26    SP  ...                        0.00816     0.0000\n",
              "50799  2020-02-26    SP  ...                        0.00218     0.0000\n",
              "50800  2020-02-25    SP  ...                        0.00816     0.0000\n",
              "50801  2020-02-25    SP  ...                        0.00218     0.0000\n",
              "\n",
              "[50802 rows x 11 columns]"
            ]
          },
          "metadata": {
            "tags": []
          },
          "execution_count": 295
        }
      ]
    },
    {
      "cell_type": "markdown",
      "metadata": {
        "id": "3YeRpcR50GIM",
        "colab_type": "text"
      },
      "source": [
        "# Pré-processando os Dados"
      ]
    },
    {
      "cell_type": "code",
      "metadata": {
        "id": "P_IXjaKBHNXG",
        "colab_type": "code",
        "outputId": "138aafc5-29bf-41c5-de61-d364fd8d9b96",
        "colab": {
          "base_uri": "https://localhost:8080/",
          "height": 0
        }
      },
      "source": [
        "#Selecionar as colunas de interesse. Método loc do Pandas.\n",
        "#Na coluna place_type selecionar somente as linhas que tem dados referentes aos estados.\n",
        "estados = df.loc[df.place_type == 'state', ['state', 'confirmed', 'deaths', 'is_last']]\n",
        "#Visualizar Data Frame\n",
        "estados"
      ],
      "execution_count": 296,
      "outputs": [
        {
          "output_type": "execute_result",
          "data": {
            "text/html": [
              "<div>\n",
              "<style scoped>\n",
              "    .dataframe tbody tr th:only-of-type {\n",
              "        vertical-align: middle;\n",
              "    }\n",
              "\n",
              "    .dataframe tbody tr th {\n",
              "        vertical-align: top;\n",
              "    }\n",
              "\n",
              "    .dataframe thead th {\n",
              "        text-align: right;\n",
              "    }\n",
              "</style>\n",
              "<table border=\"1\" class=\"dataframe\">\n",
              "  <thead>\n",
              "    <tr style=\"text-align: right;\">\n",
              "      <th></th>\n",
              "      <th>state</th>\n",
              "      <th>confirmed</th>\n",
              "      <th>deaths</th>\n",
              "      <th>is_last</th>\n",
              "    </tr>\n",
              "  </thead>\n",
              "  <tbody>\n",
              "    <tr>\n",
              "      <th>14</th>\n",
              "      <td>AC</td>\n",
              "      <td>733</td>\n",
              "      <td>28</td>\n",
              "      <td>True</td>\n",
              "    </tr>\n",
              "    <tr>\n",
              "      <th>66</th>\n",
              "      <td>AL</td>\n",
              "      <td>1538</td>\n",
              "      <td>72</td>\n",
              "      <td>True</td>\n",
              "    </tr>\n",
              "    <tr>\n",
              "      <th>121</th>\n",
              "      <td>AM</td>\n",
              "      <td>7313</td>\n",
              "      <td>585</td>\n",
              "      <td>True</td>\n",
              "    </tr>\n",
              "    <tr>\n",
              "      <th>137</th>\n",
              "      <td>AP</td>\n",
              "      <td>1733</td>\n",
              "      <td>49</td>\n",
              "      <td>True</td>\n",
              "    </tr>\n",
              "    <tr>\n",
              "      <th>293</th>\n",
              "      <td>BA</td>\n",
              "      <td>3734</td>\n",
              "      <td>141</td>\n",
              "      <td>True</td>\n",
              "    </tr>\n",
              "    <tr>\n",
              "      <th>...</th>\n",
              "      <td>...</td>\n",
              "      <td>...</td>\n",
              "      <td>...</td>\n",
              "      <td>...</td>\n",
              "    </tr>\n",
              "    <tr>\n",
              "      <th>50793</th>\n",
              "      <td>SP</td>\n",
              "      <td>2</td>\n",
              "      <td>0</td>\n",
              "      <td>False</td>\n",
              "    </tr>\n",
              "    <tr>\n",
              "      <th>50795</th>\n",
              "      <td>SP</td>\n",
              "      <td>2</td>\n",
              "      <td>0</td>\n",
              "      <td>False</td>\n",
              "    </tr>\n",
              "    <tr>\n",
              "      <th>50797</th>\n",
              "      <td>SP</td>\n",
              "      <td>1</td>\n",
              "      <td>0</td>\n",
              "      <td>False</td>\n",
              "    </tr>\n",
              "    <tr>\n",
              "      <th>50799</th>\n",
              "      <td>SP</td>\n",
              "      <td>1</td>\n",
              "      <td>0</td>\n",
              "      <td>False</td>\n",
              "    </tr>\n",
              "    <tr>\n",
              "      <th>50801</th>\n",
              "      <td>SP</td>\n",
              "      <td>1</td>\n",
              "      <td>0</td>\n",
              "      <td>False</td>\n",
              "    </tr>\n",
              "  </tbody>\n",
              "</table>\n",
              "<p>1376 rows × 4 columns</p>\n",
              "</div>"
            ],
            "text/plain": [
              "      state  confirmed  deaths  is_last\n",
              "14       AC        733      28     True\n",
              "66       AL       1538      72     True\n",
              "121      AM       7313     585     True\n",
              "137      AP       1733      49     True\n",
              "293      BA       3734     141     True\n",
              "...     ...        ...     ...      ...\n",
              "50793    SP          2       0    False\n",
              "50795    SP          2       0    False\n",
              "50797    SP          1       0    False\n",
              "50799    SP          1       0    False\n",
              "50801    SP          1       0    False\n",
              "\n",
              "[1376 rows x 4 columns]"
            ]
          },
          "metadata": {
            "tags": []
          },
          "execution_count": 296
        }
      ]
    },
    {
      "cell_type": "code",
      "metadata": {
        "id": "4uSJ8z0aH9ET",
        "colab_type": "code",
        "outputId": "c2889a28-dbfb-44e6-b9ae-3c9a8406bac3",
        "colab": {
          "base_uri": "https://localhost:8080/",
          "height": 0
        }
      },
      "source": [
        "#Verificar se há dados faltando ou nulos.\n",
        "estados.isnull().sum()"
      ],
      "execution_count": 297,
      "outputs": [
        {
          "output_type": "execute_result",
          "data": {
            "text/plain": [
              "state        0\n",
              "confirmed    0\n",
              "deaths       0\n",
              "is_last      0\n",
              "dtype: int64"
            ]
          },
          "metadata": {
            "tags": []
          },
          "execution_count": 297
        }
      ]
    },
    {
      "cell_type": "markdown",
      "metadata": {
        "id": "IDfvCsuyKlsv",
        "colab_type": "text"
      },
      "source": [
        "**Na data em que esse estudo foi feito, os dados estavam ok, mas e se fosse necessário um pré-processamento, o que poderia ser feito?**\n",
        "\n",
        "1.   Remover os dados nulos\n",
        "2.   Tratar esses dados \n",
        "\n",
        "\n"
      ]
    },
    {
      "cell_type": "markdown",
      "metadata": {
        "id": "6g57NECdK5v2",
        "colab_type": "text"
      },
      "source": [
        "**Remover os dados poderia nesse caso prejudicar o estudo, em questão de completude, concorda que se não houveram registros de mortes para aquele determinado estado, é mais eficiente substituir os valores ausentes por 0 ?**\n",
        "\n",
        "\n",
        "Em casos de estudo da ciência de dados há outras maneiras, como preencher com a média, mediana e etc, isso depende do contexto e é uma importante decisão no pré-processamento dos dados."
      ]
    },
    {
      "cell_type": "code",
      "metadata": {
        "id": "_PmnzyOAIHKT",
        "colab_type": "code",
        "colab": {}
      },
      "source": [
        "#Uma forma de preencher com 0 os valores nulos\n",
        "# estados = estados.loc[estados.deaths.isnull(), 'deaths'] = 0"
      ],
      "execution_count": 0,
      "outputs": []
    },
    {
      "cell_type": "markdown",
      "metadata": {
        "id": "HQVZa4IeLlQ8",
        "colab_type": "text"
      },
      "source": [
        "**Existe já um método do Pandas que facilita esse trabalho**"
      ]
    },
    {
      "cell_type": "code",
      "metadata": {
        "id": "vqsNB3WELXA5",
        "colab_type": "code",
        "colab": {}
      },
      "source": [
        "# estados.fillna(0)"
      ],
      "execution_count": 0,
      "outputs": []
    },
    {
      "cell_type": "code",
      "metadata": {
        "id": "bZBxbPrDMHyd",
        "colab_type": "code",
        "outputId": "01050d11-855c-430f-aae0-23bd569d1390",
        "colab": {
          "base_uri": "https://localhost:8080/",
          "height": 0
        }
      },
      "source": [
        "#Selecionar somente as últimas atualizações da base de dados para cada estado.\n",
        "ultimos_dados = estados.loc[estados.is_last == True, :]\n",
        "ultimos_dados"
      ],
      "execution_count": 300,
      "outputs": [
        {
          "output_type": "execute_result",
          "data": {
            "text/html": [
              "<div>\n",
              "<style scoped>\n",
              "    .dataframe tbody tr th:only-of-type {\n",
              "        vertical-align: middle;\n",
              "    }\n",
              "\n",
              "    .dataframe tbody tr th {\n",
              "        vertical-align: top;\n",
              "    }\n",
              "\n",
              "    .dataframe thead th {\n",
              "        text-align: right;\n",
              "    }\n",
              "</style>\n",
              "<table border=\"1\" class=\"dataframe\">\n",
              "  <thead>\n",
              "    <tr style=\"text-align: right;\">\n",
              "      <th></th>\n",
              "      <th>state</th>\n",
              "      <th>confirmed</th>\n",
              "      <th>deaths</th>\n",
              "      <th>is_last</th>\n",
              "    </tr>\n",
              "  </thead>\n",
              "  <tbody>\n",
              "    <tr>\n",
              "      <th>14</th>\n",
              "      <td>AC</td>\n",
              "      <td>733</td>\n",
              "      <td>28</td>\n",
              "      <td>True</td>\n",
              "    </tr>\n",
              "    <tr>\n",
              "      <th>66</th>\n",
              "      <td>AL</td>\n",
              "      <td>1538</td>\n",
              "      <td>72</td>\n",
              "      <td>True</td>\n",
              "    </tr>\n",
              "    <tr>\n",
              "      <th>121</th>\n",
              "      <td>AM</td>\n",
              "      <td>7313</td>\n",
              "      <td>585</td>\n",
              "      <td>True</td>\n",
              "    </tr>\n",
              "    <tr>\n",
              "      <th>137</th>\n",
              "      <td>AP</td>\n",
              "      <td>1733</td>\n",
              "      <td>49</td>\n",
              "      <td>True</td>\n",
              "    </tr>\n",
              "    <tr>\n",
              "      <th>293</th>\n",
              "      <td>BA</td>\n",
              "      <td>3734</td>\n",
              "      <td>141</td>\n",
              "      <td>True</td>\n",
              "    </tr>\n",
              "    <tr>\n",
              "      <th>373</th>\n",
              "      <td>ES</td>\n",
              "      <td>3351</td>\n",
              "      <td>123</td>\n",
              "      <td>True</td>\n",
              "    </tr>\n",
              "    <tr>\n",
              "      <th>437</th>\n",
              "      <td>GO</td>\n",
              "      <td>861</td>\n",
              "      <td>30</td>\n",
              "      <td>True</td>\n",
              "    </tr>\n",
              "    <tr>\n",
              "      <th>558</th>\n",
              "      <td>MA</td>\n",
              "      <td>4530</td>\n",
              "      <td>271</td>\n",
              "      <td>True</td>\n",
              "    </tr>\n",
              "    <tr>\n",
              "      <th>754</th>\n",
              "      <td>MG</td>\n",
              "      <td>2347</td>\n",
              "      <td>90</td>\n",
              "      <td>True</td>\n",
              "    </tr>\n",
              "    <tr>\n",
              "      <th>777</th>\n",
              "      <td>MS</td>\n",
              "      <td>274</td>\n",
              "      <td>10</td>\n",
              "      <td>True</td>\n",
              "    </tr>\n",
              "    <tr>\n",
              "      <th>813</th>\n",
              "      <td>MT</td>\n",
              "      <td>344</td>\n",
              "      <td>13</td>\n",
              "      <td>True</td>\n",
              "    </tr>\n",
              "    <tr>\n",
              "      <th>930</th>\n",
              "      <td>PA</td>\n",
              "      <td>4262</td>\n",
              "      <td>344</td>\n",
              "      <td>True</td>\n",
              "    </tr>\n",
              "    <tr>\n",
              "      <th>1001</th>\n",
              "      <td>PB</td>\n",
              "      <td>1361</td>\n",
              "      <td>85</td>\n",
              "      <td>True</td>\n",
              "    </tr>\n",
              "    <tr>\n",
              "      <th>1147</th>\n",
              "      <td>PE</td>\n",
              "      <td>8863</td>\n",
              "      <td>691</td>\n",
              "      <td>True</td>\n",
              "    </tr>\n",
              "    <tr>\n",
              "      <th>1228</th>\n",
              "      <td>PI</td>\n",
              "      <td>875</td>\n",
              "      <td>29</td>\n",
              "      <td>True</td>\n",
              "    </tr>\n",
              "    <tr>\n",
              "      <th>1366</th>\n",
              "      <td>PR</td>\n",
              "      <td>1581</td>\n",
              "      <td>97</td>\n",
              "      <td>True</td>\n",
              "    </tr>\n",
              "    <tr>\n",
              "      <th>1451</th>\n",
              "      <td>RJ</td>\n",
              "      <td>11721</td>\n",
              "      <td>1065</td>\n",
              "      <td>True</td>\n",
              "    </tr>\n",
              "    <tr>\n",
              "      <th>1480</th>\n",
              "      <td>RO</td>\n",
              "      <td>756</td>\n",
              "      <td>25</td>\n",
              "      <td>True</td>\n",
              "    </tr>\n",
              "    <tr>\n",
              "      <th>1492</th>\n",
              "      <td>RR</td>\n",
              "      <td>578</td>\n",
              "      <td>11</td>\n",
              "      <td>True</td>\n",
              "    </tr>\n",
              "    <tr>\n",
              "      <th>1646</th>\n",
              "      <td>RS</td>\n",
              "      <td>1768</td>\n",
              "      <td>76</td>\n",
              "      <td>True</td>\n",
              "    </tr>\n",
              "    <tr>\n",
              "      <th>1795</th>\n",
              "      <td>SC</td>\n",
              "      <td>2623</td>\n",
              "      <td>55</td>\n",
              "      <td>True</td>\n",
              "    </tr>\n",
              "    <tr>\n",
              "      <th>1839</th>\n",
              "      <td>SE</td>\n",
              "      <td>772</td>\n",
              "      <td>17</td>\n",
              "      <td>True</td>\n",
              "    </tr>\n",
              "    <tr>\n",
              "      <th>2179</th>\n",
              "      <td>SP</td>\n",
              "      <td>32187</td>\n",
              "      <td>2654</td>\n",
              "      <td>True</td>\n",
              "    </tr>\n",
              "    <tr>\n",
              "      <th>2625</th>\n",
              "      <td>CE</td>\n",
              "      <td>8379</td>\n",
              "      <td>677</td>\n",
              "      <td>True</td>\n",
              "    </tr>\n",
              "    <tr>\n",
              "      <th>2628</th>\n",
              "      <td>DF</td>\n",
              "      <td>1720</td>\n",
              "      <td>33</td>\n",
              "      <td>True</td>\n",
              "    </tr>\n",
              "    <tr>\n",
              "      <th>3843</th>\n",
              "      <td>RN</td>\n",
              "      <td>1421</td>\n",
              "      <td>62</td>\n",
              "      <td>True</td>\n",
              "    </tr>\n",
              "    <tr>\n",
              "      <th>4580</th>\n",
              "      <td>TO</td>\n",
              "      <td>267</td>\n",
              "      <td>6</td>\n",
              "      <td>True</td>\n",
              "    </tr>\n",
              "  </tbody>\n",
              "</table>\n",
              "</div>"
            ],
            "text/plain": [
              "     state  confirmed  deaths  is_last\n",
              "14      AC        733      28     True\n",
              "66      AL       1538      72     True\n",
              "121     AM       7313     585     True\n",
              "137     AP       1733      49     True\n",
              "293     BA       3734     141     True\n",
              "373     ES       3351     123     True\n",
              "437     GO        861      30     True\n",
              "558     MA       4530     271     True\n",
              "754     MG       2347      90     True\n",
              "777     MS        274      10     True\n",
              "813     MT        344      13     True\n",
              "930     PA       4262     344     True\n",
              "1001    PB       1361      85     True\n",
              "1147    PE       8863     691     True\n",
              "1228    PI        875      29     True\n",
              "1366    PR       1581      97     True\n",
              "1451    RJ      11721    1065     True\n",
              "1480    RO        756      25     True\n",
              "1492    RR        578      11     True\n",
              "1646    RS       1768      76     True\n",
              "1795    SC       2623      55     True\n",
              "1839    SE        772      17     True\n",
              "2179    SP      32187    2654     True\n",
              "2625    CE       8379     677     True\n",
              "2628    DF       1720      33     True\n",
              "3843    RN       1421      62     True\n",
              "4580    TO        267       6     True"
            ]
          },
          "metadata": {
            "tags": []
          },
          "execution_count": 300
        }
      ]
    },
    {
      "cell_type": "code",
      "metadata": {
        "id": "_yHCHDmGMbON",
        "colab_type": "code",
        "outputId": "4e20a069-7596-49a5-cb4d-f7b47e2738e0",
        "colab": {
          "base_uri": "https://localhost:8080/",
          "height": 0
        }
      },
      "source": [
        "#Verificar a quantidade de linhas do novo Data Frame (Compatível com o número de estados do Brasil)\n",
        "len(ultimos_dados)"
      ],
      "execution_count": 301,
      "outputs": [
        {
          "output_type": "execute_result",
          "data": {
            "text/plain": [
              "27"
            ]
          },
          "metadata": {
            "tags": []
          },
          "execution_count": 301
        }
      ]
    },
    {
      "cell_type": "code",
      "metadata": {
        "id": "Z4bp_NGOMssI",
        "colab_type": "code",
        "outputId": "e3e55546-a9f0-4462-c32e-09ab1954d046",
        "colab": {
          "base_uri": "https://localhost:8080/",
          "height": 0
        }
      },
      "source": [
        "#Ao verificar que as últimas atualizações foram requisitadas, não é mais necessária a coluna 'is_last'\n",
        "ultimos_dados = estados.loc[: , ['state', 'confirmed', 'deaths']]\n",
        "ultimos_dados\n"
      ],
      "execution_count": 302,
      "outputs": [
        {
          "output_type": "execute_result",
          "data": {
            "text/html": [
              "<div>\n",
              "<style scoped>\n",
              "    .dataframe tbody tr th:only-of-type {\n",
              "        vertical-align: middle;\n",
              "    }\n",
              "\n",
              "    .dataframe tbody tr th {\n",
              "        vertical-align: top;\n",
              "    }\n",
              "\n",
              "    .dataframe thead th {\n",
              "        text-align: right;\n",
              "    }\n",
              "</style>\n",
              "<table border=\"1\" class=\"dataframe\">\n",
              "  <thead>\n",
              "    <tr style=\"text-align: right;\">\n",
              "      <th></th>\n",
              "      <th>state</th>\n",
              "      <th>confirmed</th>\n",
              "      <th>deaths</th>\n",
              "    </tr>\n",
              "  </thead>\n",
              "  <tbody>\n",
              "    <tr>\n",
              "      <th>14</th>\n",
              "      <td>AC</td>\n",
              "      <td>733</td>\n",
              "      <td>28</td>\n",
              "    </tr>\n",
              "    <tr>\n",
              "      <th>66</th>\n",
              "      <td>AL</td>\n",
              "      <td>1538</td>\n",
              "      <td>72</td>\n",
              "    </tr>\n",
              "    <tr>\n",
              "      <th>121</th>\n",
              "      <td>AM</td>\n",
              "      <td>7313</td>\n",
              "      <td>585</td>\n",
              "    </tr>\n",
              "    <tr>\n",
              "      <th>137</th>\n",
              "      <td>AP</td>\n",
              "      <td>1733</td>\n",
              "      <td>49</td>\n",
              "    </tr>\n",
              "    <tr>\n",
              "      <th>293</th>\n",
              "      <td>BA</td>\n",
              "      <td>3734</td>\n",
              "      <td>141</td>\n",
              "    </tr>\n",
              "    <tr>\n",
              "      <th>...</th>\n",
              "      <td>...</td>\n",
              "      <td>...</td>\n",
              "      <td>...</td>\n",
              "    </tr>\n",
              "    <tr>\n",
              "      <th>50793</th>\n",
              "      <td>SP</td>\n",
              "      <td>2</td>\n",
              "      <td>0</td>\n",
              "    </tr>\n",
              "    <tr>\n",
              "      <th>50795</th>\n",
              "      <td>SP</td>\n",
              "      <td>2</td>\n",
              "      <td>0</td>\n",
              "    </tr>\n",
              "    <tr>\n",
              "      <th>50797</th>\n",
              "      <td>SP</td>\n",
              "      <td>1</td>\n",
              "      <td>0</td>\n",
              "    </tr>\n",
              "    <tr>\n",
              "      <th>50799</th>\n",
              "      <td>SP</td>\n",
              "      <td>1</td>\n",
              "      <td>0</td>\n",
              "    </tr>\n",
              "    <tr>\n",
              "      <th>50801</th>\n",
              "      <td>SP</td>\n",
              "      <td>1</td>\n",
              "      <td>0</td>\n",
              "    </tr>\n",
              "  </tbody>\n",
              "</table>\n",
              "<p>1376 rows × 3 columns</p>\n",
              "</div>"
            ],
            "text/plain": [
              "      state  confirmed  deaths\n",
              "14       AC        733      28\n",
              "66       AL       1538      72\n",
              "121      AM       7313     585\n",
              "137      AP       1733      49\n",
              "293      BA       3734     141\n",
              "...     ...        ...     ...\n",
              "50793    SP          2       0\n",
              "50795    SP          2       0\n",
              "50797    SP          1       0\n",
              "50799    SP          1       0\n",
              "50801    SP          1       0\n",
              "\n",
              "[1376 rows x 3 columns]"
            ]
          },
          "metadata": {
            "tags": []
          },
          "execution_count": 302
        }
      ]
    },
    {
      "cell_type": "markdown",
      "metadata": {
        "id": "AOB0852C0Mqr",
        "colab_type": "text"
      },
      "source": [
        "# Aplicando Logaritmo aos Dados"
      ]
    },
    {
      "cell_type": "code",
      "metadata": {
        "id": "f_ywnP5Ohxwu",
        "colab_type": "code",
        "outputId": "cb9a5006-844b-4e74-85d2-506f2da7ddc5",
        "colab": {
          "base_uri": "https://localhost:8080/",
          "height": 0
        }
      },
      "source": [
        "#Pegar o logaritmo dos dados e criar uma coluna extra para cada mortes e casos com seus respectivos logs\n",
        "ultimos_dados['log_confirmed'] = np.log(ultimos_dados['confirmed']+1)\n",
        "ultimos_dados['log_deaths'] = np.log(ultimos_dados['deaths']+1)\n",
        "ultimos_dados.head(10)"
      ],
      "execution_count": 303,
      "outputs": [
        {
          "output_type": "execute_result",
          "data": {
            "text/html": [
              "<div>\n",
              "<style scoped>\n",
              "    .dataframe tbody tr th:only-of-type {\n",
              "        vertical-align: middle;\n",
              "    }\n",
              "\n",
              "    .dataframe tbody tr th {\n",
              "        vertical-align: top;\n",
              "    }\n",
              "\n",
              "    .dataframe thead th {\n",
              "        text-align: right;\n",
              "    }\n",
              "</style>\n",
              "<table border=\"1\" class=\"dataframe\">\n",
              "  <thead>\n",
              "    <tr style=\"text-align: right;\">\n",
              "      <th></th>\n",
              "      <th>state</th>\n",
              "      <th>confirmed</th>\n",
              "      <th>deaths</th>\n",
              "      <th>log_confirmed</th>\n",
              "      <th>log_deaths</th>\n",
              "    </tr>\n",
              "  </thead>\n",
              "  <tbody>\n",
              "    <tr>\n",
              "      <th>14</th>\n",
              "      <td>AC</td>\n",
              "      <td>733</td>\n",
              "      <td>28</td>\n",
              "      <td>6.598509</td>\n",
              "      <td>3.367296</td>\n",
              "    </tr>\n",
              "    <tr>\n",
              "      <th>66</th>\n",
              "      <td>AL</td>\n",
              "      <td>1538</td>\n",
              "      <td>72</td>\n",
              "      <td>7.338888</td>\n",
              "      <td>4.290459</td>\n",
              "    </tr>\n",
              "    <tr>\n",
              "      <th>121</th>\n",
              "      <td>AM</td>\n",
              "      <td>7313</td>\n",
              "      <td>585</td>\n",
              "      <td>8.897546</td>\n",
              "      <td>6.373320</td>\n",
              "    </tr>\n",
              "    <tr>\n",
              "      <th>137</th>\n",
              "      <td>AP</td>\n",
              "      <td>1733</td>\n",
              "      <td>49</td>\n",
              "      <td>7.458186</td>\n",
              "      <td>3.912023</td>\n",
              "    </tr>\n",
              "    <tr>\n",
              "      <th>293</th>\n",
              "      <td>BA</td>\n",
              "      <td>3734</td>\n",
              "      <td>141</td>\n",
              "      <td>8.225503</td>\n",
              "      <td>4.955827</td>\n",
              "    </tr>\n",
              "    <tr>\n",
              "      <th>373</th>\n",
              "      <td>ES</td>\n",
              "      <td>3351</td>\n",
              "      <td>123</td>\n",
              "      <td>8.117312</td>\n",
              "      <td>4.820282</td>\n",
              "    </tr>\n",
              "    <tr>\n",
              "      <th>437</th>\n",
              "      <td>GO</td>\n",
              "      <td>861</td>\n",
              "      <td>30</td>\n",
              "      <td>6.759255</td>\n",
              "      <td>3.433987</td>\n",
              "    </tr>\n",
              "    <tr>\n",
              "      <th>558</th>\n",
              "      <td>MA</td>\n",
              "      <td>4530</td>\n",
              "      <td>271</td>\n",
              "      <td>8.418698</td>\n",
              "      <td>5.605802</td>\n",
              "    </tr>\n",
              "    <tr>\n",
              "      <th>754</th>\n",
              "      <td>MG</td>\n",
              "      <td>2347</td>\n",
              "      <td>90</td>\n",
              "      <td>7.761319</td>\n",
              "      <td>4.510860</td>\n",
              "    </tr>\n",
              "    <tr>\n",
              "      <th>777</th>\n",
              "      <td>MS</td>\n",
              "      <td>274</td>\n",
              "      <td>10</td>\n",
              "      <td>5.616771</td>\n",
              "      <td>2.397895</td>\n",
              "    </tr>\n",
              "  </tbody>\n",
              "</table>\n",
              "</div>"
            ],
            "text/plain": [
              "    state  confirmed  deaths  log_confirmed  log_deaths\n",
              "14     AC        733      28       6.598509    3.367296\n",
              "66     AL       1538      72       7.338888    4.290459\n",
              "121    AM       7313     585       8.897546    6.373320\n",
              "137    AP       1733      49       7.458186    3.912023\n",
              "293    BA       3734     141       8.225503    4.955827\n",
              "373    ES       3351     123       8.117312    4.820282\n",
              "437    GO        861      30       6.759255    3.433987\n",
              "558    MA       4530     271       8.418698    5.605802\n",
              "754    MG       2347      90       7.761319    4.510860\n",
              "777    MS        274      10       5.616771    2.397895"
            ]
          },
          "metadata": {
            "tags": []
          },
          "execution_count": 303
        }
      ]
    },
    {
      "cell_type": "markdown",
      "metadata": {
        "id": "adk1k6No0SbQ",
        "colab_type": "text"
      },
      "source": [
        "# Importando Json para desenho do Mapa"
      ]
    },
    {
      "cell_type": "code",
      "metadata": {
        "id": "6KxEZyfHMd8o",
        "colab_type": "code",
        "colab": {}
      },
      "source": [
        " import json"
      ],
      "execution_count": 0,
      "outputs": []
    },
    {
      "cell_type": "code",
      "metadata": {
        "id": "SEKGgy4kNqZQ",
        "colab_type": "code",
        "colab": {}
      },
      "source": [
        "#Arquivo Json com coordenadas p/ o desenho do Mapa.\n",
        "br_estados = 'json.json'\n",
        "geo_json_data = json.load(open(br_estados))"
      ],
      "execution_count": 0,
      "outputs": []
    },
    {
      "cell_type": "markdown",
      "metadata": {
        "id": "atHPhOIH0cSj",
        "colab_type": "text"
      },
      "source": [
        ""
      ]
    },
    {
      "cell_type": "code",
      "metadata": {
        "id": "NknYKCYPPm7L",
        "colab_type": "code",
        "colab": {}
      },
      "source": [
        "#geo_json_data"
      ],
      "execution_count": 0,
      "outputs": []
    },
    {
      "cell_type": "markdown",
      "metadata": {
        "id": "nSE5csxB0W57",
        "colab_type": "text"
      },
      "source": [
        "# Criando e Salvando Mapa de Casos"
      ]
    },
    {
      "cell_type": "code",
      "metadata": {
        "id": "BIfEfwc6QAUe",
        "colab_type": "code",
        "outputId": "f7aa2247-868a-417c-9f85-edf26bb169de",
        "colab": {
          "base_uri": "https://localhost:8080/",
          "height": 74
        }
      },
      "source": [
        "#Tipo de mapa mais simples.\n",
        "mapa.choropleth(\n",
        "    geo_data = geo_json_data,\n",
        "    name = \"Casos COVID\",\n",
        "    data = ultimos_dados,\n",
        "    columns = ['state', 'log_confirmed'],\n",
        "    key_on = 'feature.id',\n",
        "    fill_color = \"Reds\",\n",
        "    fill_opacity = 0.8,\n",
        "    line_color = 'white',\n",
        "    line_opacity = 0.8,\n",
        "    show = True,\n",
        "    legend_name = \"Log de casos de COVID-19 por Estado no Brasil\"\n",
        ")"
      ],
      "execution_count": 307,
      "outputs": [
        {
          "output_type": "stream",
          "text": [
            "/usr/local/lib/python3.6/dist-packages/folium/folium.py:426: FutureWarning: The choropleth  method has been deprecated. Instead use the new Choropleth class, which has the same arguments. See the example notebook 'GeoJSON_and_choropleth' for how to do this.\n",
            "  FutureWarning\n"
          ],
          "name": "stderr"
        }
      ]
    },
    {
      "cell_type": "code",
      "metadata": {
        "id": "5t0QA6OLxPKU",
        "colab_type": "code",
        "colab": {}
      },
      "source": [
        "#Salvar em uma página Web.\n",
        "mapa.save('mapa_casos.html')"
      ],
      "execution_count": 0,
      "outputs": []
    },
    {
      "cell_type": "markdown",
      "metadata": {
        "id": "QrfofPGM0d2O",
        "colab_type": "text"
      },
      "source": [
        "# Criando e Salvando Mapas de Mortes"
      ]
    },
    {
      "cell_type": "code",
      "metadata": {
        "id": "zBL4SxuvvxZg",
        "colab_type": "code",
        "colab": {
          "base_uri": "https://localhost:8080/",
          "height": 74
        },
        "outputId": "5572aaaf-43f5-4029-9445-f85d581b29bc"
      },
      "source": [
        "mapa.choropleth(\n",
        "    geo_data = geo_json_data,\n",
        "    name = \"Mortes COVID\",\n",
        "    data = ultimos_dados,\n",
        "    columns = ['state', 'log_deaths'],\n",
        "    key_on = 'feature.id',\n",
        "    fill_color = \"YlOrRd\",\n",
        "    fill_opacity = 0.8,\n",
        "    line_color = 'white',\n",
        "    line_opacity = 0.8,\n",
        "    show = True,\n",
        "    legend_name = \"Log de mortes de COVID-19 por Estado no Brasil\"\n",
        ")"
      ],
      "execution_count": 309,
      "outputs": [
        {
          "output_type": "stream",
          "text": [
            "/usr/local/lib/python3.6/dist-packages/folium/folium.py:426: FutureWarning: The choropleth  method has been deprecated. Instead use the new Choropleth class, which has the same arguments. See the example notebook 'GeoJSON_and_choropleth' for how to do this.\n",
            "  FutureWarning\n"
          ],
          "name": "stderr"
        }
      ]
    },
    {
      "cell_type": "code",
      "metadata": {
        "id": "uQv857LbSttl",
        "colab_type": "code",
        "colab": {}
      },
      "source": [
        "#mapa"
      ],
      "execution_count": 0,
      "outputs": []
    },
    {
      "cell_type": "code",
      "metadata": {
        "id": "BiwMHcZmyJ9_",
        "colab_type": "code",
        "colab": {
          "base_uri": "https://localhost:8080/",
          "height": 35
        },
        "outputId": "02bf621c-c4f3-4c35-9786-07da4a20df16"
      },
      "source": [
        "#Adicionar um Controler p/ definir qual dos dois mapas exibir\n",
        "folium.LayerControl().add_to(mapa)"
      ],
      "execution_count": 311,
      "outputs": [
        {
          "output_type": "execute_result",
          "data": {
            "text/plain": [
              "<folium.map.LayerControl at 0x7f9be501b080>"
            ]
          },
          "metadata": {
            "tags": []
          },
          "execution_count": 311
        }
      ]
    },
    {
      "cell_type": "code",
      "metadata": {
        "id": "JJe01W1cT1AO",
        "colab_type": "code",
        "colab": {}
      },
      "source": [
        "mapa.save('mapa_mortes.html')"
      ],
      "execution_count": 0,
      "outputs": []
    }
  ]
}